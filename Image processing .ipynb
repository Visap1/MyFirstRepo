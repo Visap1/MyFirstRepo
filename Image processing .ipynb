{
  "cells": [
    {
      "cell_type": "markdown",
      "metadata": {
        "id": "TB6TwCvWvjMy"
      },
      "source": [
        "\n",
        "# **Lab Assigment 2**\n",
        "## **Comparing colors in Abortion and Gender Based Violence protets by femenist movements**.\n",
        "@ *Victor Saidi Phiri* \n",
        "________________________________________________________________________\n",
        "\n",
        "## **Introduction** \n",
        "\n",
        "The last quarter of the 20th century saw the frequent use of colours in women’s movements. The dominant ones were noted to be green, white, and purple. Hence, the essence of this analysis is to observe the colours in the feminist movements in different parts of the world.Specifically, I shall compare the colors used in abortion protests and those related to gender based violence. \n",
        "\n",
        "\n",
        "\n",
        "\n",
        "\n"
      ]
    },
    {
      "cell_type": "markdown",
      "metadata": {
        "id": "MdgIMDBYD4X4"
      },
      "source": [
        "## **Literacture** \n",
        "\n",
        "Feminist movements use various visuals during demonstrations, including the uniform colour of clothes, hats, banners, flyers, postcards, and others. For instance, various women’s movements frequently employ the colour pink in their written materials and pink hairstyles when performing demonstrations for abortion rights(Sutton and Vacarezza, 2020). Green was also noted to be commonly used in such protests. The colour purple was noted to be associated with gender-based violence protests.\n",
        "### *Why the colors*\n",
        "\n",
        "A survey conducted in 2005 targeting the members of the feminist movements established that women put on the colours for the following reasons:\n",
        "-\tSolidarity and Identity \n",
        "-\tConnecting with past feminist struggles \n",
        "-\tCommitment to the movement (Mayhall,2005).\n",
        "Sawer (2007) argued that political parties and social movements can learn a lot about their followers' needs and wants through the visual tactics they employ. \n",
        "\n",
        "**Key questions**\n",
        "\n",
        " \n",
        "1. Is there a difference between the colors used in feminist protests for abortion rights and those used in gender-based violence protests? "
      ]
    },
    {
      "cell_type": "markdown",
      "metadata": {
        "id": "UneKMFd_wD1f"
      },
      "source": [
        "## **Load and Resize Data**\n",
        "\n",
        "This report worked with 18 pictures obtained from google search. The pictures were on feminists protests focusing on gender based violence and abortion. I used this approach in order to understand the kind of colours used in the two topics to establish a comparison. Since, the images were obtained from varius sources, they varied in sizes. Hence, I used jupyter note book to resise my pictures before opening them in colab for the final analysis. The pictures were resized to; width(1282) and height(797). \n",
        "The images were loaded to codlab using google drive. All the images were put into a ZIP folder(GB-AB.zip) which was used in this document. "
      ]
    },
    {
      "cell_type": "code",
      "execution_count": null,
      "metadata": {
        "id": "7s4hpHlt2z-G"
      },
      "outputs": [],
      "source": [
        "# Packages \n",
        "\n",
        "import glob\n",
        "import urllib.request# load zip files \n",
        "import cv2\n",
        "import matplotlib.pyplot as plt # Visualization \n",
        "from sklearn.cluster import KMeans\n",
        "from collections import Counter\n",
        "from zipfile import ZipFile# Unziping images\n",
        "import pandas as pd\n",
        "import numpy as np\n",
        "from PIL import Image \n",
        "import os "
      ]
    },
    {
      "cell_type": "code",
      "execution_count": null,
      "metadata": {
        "id": "JsI2G_CVwOjc"
      },
      "outputs": [],
      "source": [
        "# Load image zip file\n",
        "\n",
        "url = \"https://docs.google.com/uc?export=download&id=1gsB77xMUjkOkok9kRXVzlr_A2x1K8bR5\"\n",
        "fp = \"GB-AB.zip\"\n",
        "urllib.request.urlretrieve(url, fp)\n",
        "#Unzip file \n",
        "\n",
        "with ZipFile('GB-AB.zip', 'r') as zipObj:\n",
        "   # Extract all the contents of zip file in current directory\n",
        "   zipObj.extractall()\n",
        "   "
      ]
    },
    {
      "cell_type": "markdown",
      "metadata": {
        "id": "2JiDW-qTw05k"
      },
      "source": [
        "## **Resize Images**\n",
        "The data were resized in the jupyuter notebook using the code below. The code allows for resizing multiple pictures.  "
      ]
    },
    {
      "cell_type": "code",
      "execution_count": null,
      "metadata": {
        "id": "7VwXxDxxwrA2"
      },
      "outputs": [],
      "source": [
        "import os\n",
        "from PIL import Image\n",
        "#from datetime import datetime\n",
        "\n",
        "#for image_file_name in os.listdir('C:/Users/Saidi/OneDrive/Desktop/v/'):\n",
        "   # if image_file_name.endswith(\".jpg\"):\n",
        "       # now = datetime.now().strftime('%Y%m%d-%H%M%S-%f')\n",
        "\n",
        "       # im = Image.open('C:/Users/Saidi/OneDrive/Desktop/v/'+image_file_name)\n",
        "       # new_width  = 1282\n",
        "       # new_height = 797\n",
        "       # im = im.resize((new_width, new_height), Image.ANTIALIAS)\n",
        "        #im.save('C:\\\\Users\\\\Saidi\\\\OneDrive\\\\Desktop\\\\test\\\\resized' + now + '.jpg')"
      ]
    },
    {
      "cell_type": "code",
      "execution_count": null,
      "metadata": {
        "colab": {
          "base_uri": "https://localhost:8080/",
          "height": 814
        },
        "id": "-Vx5SLhvKOZe",
        "outputId": "e468e36b-66c6-4392-bec9-c0bbc189a26a"
      },
      "outputs": [],
      "source": [
        "# sample of abortion image \n",
        "from google.colab.patches import cv2_imshow\n",
        "img=cv2.imread('GB-AB/ab-1.jpg')\n",
        "cv2_imshow(img)"
      ]
    },
    {
      "cell_type": "markdown",
      "metadata": {
        "id": "U9T-etRRj8KW"
      },
      "source": [
        "### **Merge Images** \n",
        "\n",
        "The images where grouped into two themes, abortion and gender based violence. Each had 9 images.This meant that I remained with two image files. This was possible because the pictures were resized to have the width and height. However, for big datasets it would be better to use a function that could iterate through images.\n"
      ]
    },
    {
      "cell_type": "code",
      "execution_count": null,
      "metadata": {
        "id": "N9-gkH-MEcvg"
      },
      "outputs": [],
      "source": [
        "      # Abortion images \n",
        "imgs= [r'GB-AB/ab-1.jpg', r'GB-AB/ab-2.jpg', r'GB-AB/ab-3.jpg', r'GB-AB/ab-4.jpg', r'GB-AB/ab-5.jpg',\n",
        "       r'GB-AB/ab-6.jpg', r'GB-AB/ab-7.jpg', r'GB-AB/ab-8.jpg', r'GB-AB/ab-9.jpg']\n",
        "       #GBV Images \n",
        "imgs2= [r'GB-AB/gbv-1.jpg', r'GB-AB/gbv-2.jpg', r'GB-AB/gbv-3.jpg', r'GB-AB/gbv-4.jpg', r'GB-AB/gbv-5.jpg',\n",
        "       r'GB-AB/gbv-6.jpg', r'GB-AB/gbv-7.jpg', r'GB-AB/gbv-8.jpg', r'GB-AB/gbv-9.jpg']\n"
      ]
    },
    {
      "cell_type": "code",
      "execution_count": null,
      "metadata": {
        "colab": {
          "base_uri": "https://localhost:8080/"
        },
        "id": "s6IqiD-WlZv-",
        "outputId": "58afca2e-cbdb-4e1f-e3c4-a7fd9fb77576"
      },
      "outputs": [],
      "source": [
        "# Abortion\n",
        "\n",
        "import matplotlib.image as mpimg\n",
        "from PIL import Image\n",
        "import matplotlib.pyplot as plt\n",
        "import numpy as np\n",
        "\n",
        "# abortion Images \n",
        "\n",
        "total_width = 0\n",
        "total_height = 0\n",
        "max_width = 0\n",
        "max_height = 0\n",
        "ix =[]\n",
        "for img in imgs:\n",
        "    im = Image.open(img)\n",
        "    size = im.size\n",
        "    w = size[0]\n",
        "    h = size[1]\n",
        "    total_width += w \n",
        "    total_height += h\n",
        "    \n",
        "    if h > max_height:\n",
        "        max_height = h\n",
        "    if w > max_width:\n",
        "        max_width = w\n",
        "    ix.append(im) \n",
        "print((total_width, total_height, max_width, max_height))"
      ]
    },
    {
      "cell_type": "code",
      "execution_count": null,
      "metadata": {
        "id": "4ViONMTRE0A6"
      },
      "outputs": [],
      "source": [
        "# merge abortion images vertically\n",
        "\n",
        "target_vertical = Image.new('RGB', (max_width, total_height)) \n",
        "pre_w = 0\n",
        "pre_h = 0\n",
        "for img in ix:\n",
        "    target_vertical.paste(img, (pre_w, pre_h, pre_w+max_width, pre_h + img.size[1]))\n",
        "    pre_h += img.size[1]\n",
        "target_vertical.show()\n",
        "target_vertical.save('vertical.png', quality=100)"
      ]
    },
    {
      "cell_type": "code",
      "execution_count": null,
      "metadata": {
        "colab": {
          "base_uri": "https://localhost:8080/"
        },
        "id": "g3LBBPms8Eyi",
        "outputId": "0d1fadad-fc8c-4eb1-df62-9e08a942cf16"
      },
      "outputs": [],
      "source": [
        "# Gender based violence protest images\n",
        "\n",
        "total_width1 = 0\n",
        "total_height1 = 0\n",
        "max_width1 = 0\n",
        "max_height1 = 0\n",
        "ix =[]\n",
        "for i in imgs2:\n",
        "    im = Image.open(i)\n",
        "    size = im.size\n",
        "    w = size[0]\n",
        "    h = size[1]\n",
        "    total_width1 += w \n",
        "    total_height1 += h\n",
        "    \n",
        "    if h > max_height1:\n",
        "        max_height1 = h\n",
        "    if w > max_width1:\n",
        "        max_width1 = w\n",
        "    ix.append(im) \n",
        "print((total_width1, total_height1, max_width1, max_height1))"
      ]
    },
    {
      "cell_type": "code",
      "execution_count": null,
      "metadata": {
        "id": "gFlaL4srE5Iw"
      },
      "outputs": [],
      "source": [
        "# combine images \n",
        "\n",
        "target_v = Image.new('RGB', (max_width1, total_height1))\n",
        "pre_w = 0\n",
        "pre_h = 0\n",
        "for img in ix:\n",
        "    target_v.paste(img, (pre_w, pre_h, pre_w+max_width1, pre_h + img.size[1]))\n",
        "    pre_h += img.size[1]\n",
        "target_v.show()\n",
        "target_v.save('GBV.png', quality=100)"
      ]
    },
    {
      "cell_type": "markdown",
      "metadata": {
        "id": "gyg9-wcZzyj8"
      },
      "source": [
        "### **Plot Histogram- image** \n",
        "\n",
        "- There is more concertration of red in the abortion protest images(picture 1). We can also see that blue is common(abit obstructed by red lin) and black(0)\n",
        "-  Black seem to common(0) in the gbv pictures. we also a higher level of red but like that of the first graph with abortion protests. \n"
      ]
    },
    {
      "cell_type": "code",
      "execution_count": null,
      "metadata": {
        "colab": {
          "base_uri": "https://localhost:8080/",
          "height": 716
        },
        "id": "eGRCJ1Q2rsYE",
        "outputId": "4d56883f-3ff9-4ad5-a808-0551607b35b5"
      },
      "outputs": [],
      "source": [
        "import cv2\n",
        "import matplotlib.pyplot as plt\n",
        "plt.figure(figsize=(10, 12))\n",
        "plt.subplot(2, 1, 1)\n",
        "\n",
        "# Abortion image \n",
        "\n",
        "image = cv2.imread('vertical.png')\n",
        "for i, col in enumerate(['b', 'g', 'r']):\n",
        "  hist = cv2.calcHist([image], [i], None, [256], [0, 256])\n",
        "  plt.plot(hist, color = col)\n",
        "  plt.xlim([0, 256])\n",
        "  plt.title('Colors associated with Abortion protests')\n",
        "\n",
        "  # GVB image\n",
        "\n",
        "plt.subplot(2, 1, 2)\n",
        "image = cv2.imread('GBV.png')\n",
        "for i, col in enumerate(['b', 'g', 'r']):\n",
        "  hist = cv2.calcHist([image], [i], None, [256], [0, 256])\n",
        "  plt.plot(hist, color = col)\n",
        "  plt.xlim([0, 256])\n",
        "  plt.title('Colors of gender based violence protests')\n"
      ]
    },
    {
      "cell_type": "markdown",
      "metadata": {
        "id": "2iEvbvNEpjDZ"
      },
      "source": [
        "## **Plot Pie chats** "
      ]
    },
    {
      "cell_type": "code",
      "execution_count": null,
      "metadata": {
        "colab": {
          "base_uri": "https://localhost:8080/"
        },
        "id": "K61MILbZ2SC7",
        "outputId": "3f6db971-fe82-457d-dcc2-782b48effc8a"
      },
      "outputs": [],
      "source": [
        "# Make pie chat \n",
        "# Utility function, rgb to hex\n",
        "\n",
        "def rgb2hex(rgb):\n",
        "    hex = \"#{:02x}{:02x}{:02x}\".format(int(rgb[0]), int(rgb[1]), int(rgb[2]))\n",
        "    return hex\n",
        "print(rgb2hex([255, 0, 0]))\n",
        "\n",
        "def plot_image_info(path, k=6):\n",
        "    # load image\n",
        "    img_bgr = cv2.imread(path)\n",
        "    img_rgb = cv2.cvtColor(img_bgr, cv2.COLOR_BGR2RGB)\n",
        "\n",
        "    # resize image to speed up processing time\n",
        "    resized_img_rgb = cv2.resize(img_rgb, (64, 64), interpolation=cv2.INTER_AREA)\n",
        "\n",
        "    # reshape the image to be a list of pixels\n",
        "    img_list = resized_img_rgb.reshape((resized_img_rgb.shape[0] * resized_img_rgb.shape[1], 3))\n",
        "\n",
        "    # cluster the pixels and assign labels\n",
        "    clt = KMeans(n_clusters=k)\n",
        "    labels = clt.fit_predict(img_list)\n",
        "        \n",
        "    # count labels to find most popular\n",
        "    label_counts = Counter(labels)\n",
        "    total_count = sum(label_counts.values())\n",
        "\n",
        "    # subset out most popular centroid\n",
        "    center_colors = list(clt.cluster_centers_)\n",
        "    ordered_colors = [center_colors[i]/255 for i in label_counts.keys()]\n",
        "    color_labels = [rgb2hex(ordered_colors[i]*255) for i in label_counts.keys()]\n",
        "    \n",
        "    #print(label_counts.values())\n",
        "    #print(color_labels)\n",
        "    \n",
        "    # plots\n",
        "    plt.figure(figsize=(30, 15))\n",
        "    plt.subplot(221)\n",
        "    plt.imshow(img_rgb)\n",
        "    plt.axis('off')\n",
        "    \n",
        "    plt.subplot(222)\n",
        "    plt.pie(label_counts.values(), labels=color_labels, colors=ordered_colors, startangle=90)\n",
        "    plt.axis('equal')\n",
        "    plt.show()\n"
      ]
    },
    {
      "cell_type": "markdown",
      "metadata": {
        "id": "Nm30IU8VGBTY"
      },
      "source": [
        "## **Display colors per protest**\n",
        "\n",
        "I ploted the pie chats to show the colours under each theme. The first one representing abortion while the second one representing gender based violence. The abortion protests seem to use colours such as pink, red while gvb have red and purple as shown in the graphs below.  We can see that the colours that have been highlited in the literature are consitent with our findings. However, I found that green was not found in our colours which dispute the argument about about the movements colours(green). Hence we claim that there are some difference in colours used in used in abortion and those used in GBV protests. \n"
      ]
    },
    {
      "cell_type": "code",
      "execution_count": null,
      "metadata": {
        "colab": {
          "base_uri": "https://localhost:8080/",
          "height": 791
        },
        "id": "pVvk0XTL3Ak8",
        "outputId": "393ba9d9-7184-4e52-e30f-d3ffced4a7a6"
      },
      "outputs": [],
      "source": [
        " \n",
        "plot_image_info('vertical.png') # abortion \n",
        "\n",
        "plot_image_info('GBV.png')# gender based violence \n"
      ]
    },
    {
      "cell_type": "markdown",
      "metadata": {
        "id": "wVhtID03iQti"
      },
      "source": [
        "________________________________________________________________________\n",
        "### **Summary**\n",
        "\n",
        "Alist of abortion colors:\n",
        "The haxa colors associated to abortion images appears to include the following:\n",
        "\n",
        "-   #d35994 : - Moderate pink.\n",
        "-  #9d8b90 : - Dark grayish pink.\n",
        "-    #cdcfd2: - Grayish blue\n",
        "- #664f59  : - Very dark grayish pink\n",
        "- #a32641 : - Dark red.\n",
        "- #2e1c21 : - Very dark (mostly black) pink\n",
        "\n",
        " Haxa colours related to gender based violence \n",
        " - #9b858d color description : Dark grayish pink\n",
        " - #221415 color description : Very dark (mostly black) red\n",
        " - #d9d6d8 color description : Light grayish pink\n",
        " - #55333c color description : Very dark desaturated pink\n",
        " - #a02f38 color description : Dark red\n",
        " - #72576e color description : Very dark grayish magenta\n",
        "\n",
        "\n",
        "source:\n",
        "https://www.colorhexa.com/9d8b90\n"
      ]
    },
    {
      "cell_type": "markdown",
      "metadata": {
        "id": "mP47y0lOA5XL"
      },
      "source": [
        "_______________________________________________________________________\n",
        "## **References** \n",
        "Marian Sawer (2007) Wearing your Politics on your Sleeve: The Role\n",
        "of Political Colours in Social Movements, Social Movement Studies, 6:1, 39-56, DOI:10.1080/14742830701251294.\n",
        "\n",
        "Mayhall, K. E. N. (2005) Domesticating Emmeline: representing the suffragette, 1930– 1993, NWSA Journal,\n",
        "11(2), Available at: http://iupjournals.org/nwsa/nws11-2.html (accessed 27 March 2005).\n",
        "\n",
        "Sutton, B. and Vacarezza, N.L. (2020) ‘Abortion Rights in Images: Visual Interventions by Activist Organizations in Argentina’, Signs: Journal of Women in Culture and Society, 45(3), pp. 731–757. Available at: https://doi.org/10.1086/706489.\n",
        "\n",
        "Color Hexa. https://www.colorhexa.com/9d8b90 retrieved on 2023-01-16\n",
        "\n",
        "Tutoria Example. Combine Images to One Image Horizontally and Vertically Using Python Pillow: A Step Guide – Pillow Tutorial. available at: \n",
        "https://www.tutorialexample.com combine-images-to-one-image-horizontally-and-vertically-using-python-pillow-a-step-guide-pillow-tutorial/.Retrived on 2023-01-16\n",
        "\n",
        "\n",
        "\n"
      ]
    }
  ],
  "metadata": {
    "colab": {
      "provenance": []
    },
    "kernelspec": {
      "display_name": "Python 3",
      "name": "python3"
    },
    "language_info": {
      "codemirror_mode": {
        "name": "ipython",
        "version": 3
      },
      "file_extension": ".py",
      "mimetype": "text/x-python",
      "name": "python",
      "nbconvert_exporter": "python",
      "pygments_lexer": "ipython3",
      "version": "3.13.3"
    }
  },
  "nbformat": 4,
  "nbformat_minor": 0
}
