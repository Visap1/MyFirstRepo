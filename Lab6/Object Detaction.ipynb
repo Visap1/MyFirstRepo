{
 "cells": [
  {
   "cell_type": "markdown",
   "id": "6e39762c",
   "metadata": {},
   "source": [
    "# Object Dectation on Ukrain War \n",
    "_____________________________________________________\n",
    "###  Comparing CNN and BBC articles "
   ]
  },
  {
   "cell_type": "code",
   "execution_count": null,
   "id": "461e7dde",
   "metadata": {},
   "outputs": [],
   "source": [
    "# save data from zip\n",
    "import urllib.request\n",
    "\n",
    "url = \"https://docs.google.com/uc?export=download&id= 1bkYqZIHE2PNeMvlmXMhxxfP7JUcExPYG\"\n",
    "fp = \"News_Images.zip\"\n",
    "urllib.request.urlretrieve(url, fp)"
   ]
  },
  {
   "cell_type": "code",
   "execution_count": null,
   "id": "87b18aa9",
   "metadata": {},
   "outputs": [],
   "source": [
    "# load data from dir\n",
    "import os\n",
    "\n",
    "for img in os.listdir(\"News_\"):\n",
    "  fn = os.fsdecode(img)\n",
    "  print(fn)"
   ]
  },
  {
   "cell_type": "code",
   "execution_count": null,
   "id": "46af1807",
   "metadata": {},
   "outputs": [],
   "source": [
    "from transformers import pipeline\n",
    "model = pipeline(\"object-detection\")"
   ]
  },
  {
   "cell_type": "code",
   "execution_count": null,
   "id": "b9b5ab53",
   "metadata": {},
   "outputs": [],
   "source": [
    "model(\"image-000.jpg\")"
   ]
  }
 ],
 "metadata": {
  "kernelspec": {
   "display_name": "Python 3 (ipykernel)",
   "language": "python",
   "name": "python3"
  },
  "language_info": {
   "codemirror_mode": {
    "name": "ipython",
    "version": 3
   },
   "file_extension": ".py",
   "mimetype": "text/x-python",
   "name": "python",
   "nbconvert_exporter": "python",
   "pygments_lexer": "ipython3",
   "version": "3.9.12"
  }
 },
 "nbformat": 4,
 "nbformat_minor": 5
}
