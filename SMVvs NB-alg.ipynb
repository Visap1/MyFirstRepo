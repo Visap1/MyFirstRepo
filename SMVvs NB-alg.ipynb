{
 "cells": [
  {
   "cell_type": "markdown",
   "id": "0e0b887e",
   "metadata": {},
   "source": [
    "## Sentiment Analysis: Toxicity Classification Model\n",
    "@ Victor Saidi Phiri"
   ]
  },
  {
   "cell_type": "markdown",
   "id": "aa541cf1",
   "metadata": {},
   "source": [
    "## Data Discription\n",
    "\n",
    "The perpose of this lab is to create a model that will be able to classify tweets as toxic or non toxic. The model will be trained on the a manually coded code book  with poplar tweets that have been classified as toxic and non toxic.\n",
    "\n",
    "This task uses the Social Media Toxicity Dataset obtained from Surge. The data contains 500 toxic comments and 500 non toxic comments from popular tweets. I will use machine learning to select a model that can best classify the tweets as toxic and non toxic. To this end, both SVM and Naive Bayes will computed and the findings will be compared to the performance of the pretrained model. In addtion, the results will be compared to the study by (Sidorov etal., n), who investigated Machining learning approach for opinion mining on tweets. \n",
    "\n",
    "### Definition of terms\n",
    "\n",
    "**Toxic comment**: \"violence against or directly attack[ing] or threaten[ing] other people on the basis of race, ethnicity, national origin, sexual orientation, gender, gender identity, religious affiliation, age, disability or disease\"-(Persily and Tucker, 2020, p. 61)\n",
    "\n",
    "**Non toxic comment**: Civil comments that do not fall into the cagorization of toxicity\n"
   ]
  },
  {
   "cell_type": "code",
   "execution_count": 1,
   "id": "eaae341f-f5b1-4028-871d-65fcac65f10d",
   "metadata": {},
   "outputs": [],
   "source": [
    "# Packages  \n",
    "import nltk\n",
    "import pandas as pd\n",
    "import matplotlib.pyplot as plt\n",
    "from sklearn.preprocessing import LabelEncoder\n",
    "from nltk.tokenize import RegexpTokenizer\n",
    "from nltk.stem import WordNetLemmatizer,PorterStemmer\n",
    "from sklearn.feature_extraction.text import TfidfTransformer\n",
    "from nltk.corpus import stopwords\n",
    "from sklearn.feature_extraction.text import CountVectorizer\n",
    "import re\n",
    "lemmatizer = WordNetLemmatizer()\n",
    "stemmer = PorterStemmer() "
   ]
  },
  {
   "cell_type": "markdown",
   "id": "a4d52d01",
   "metadata": {},
   "source": [
    "# Data Exploration  \n",
    "In this section I will explore the data to understand the structure and the contents"
   ]
  },
  {
   "cell_type": "code",
   "execution_count": 2,
   "id": "68241b7f",
   "metadata": {},
   "outputs": [
    {
     "data": {
      "text/html": [
       "<div>\n",
       "<style scoped>\n",
       "    .dataframe tbody tr th:only-of-type {\n",
       "        vertical-align: middle;\n",
       "    }\n",
       "\n",
       "    .dataframe tbody tr th {\n",
       "        vertical-align: top;\n",
       "    }\n",
       "\n",
       "    .dataframe thead th {\n",
       "        text-align: right;\n",
       "    }\n",
       "</style>\n",
       "<table border=\"1\" class=\"dataframe\">\n",
       "  <thead>\n",
       "    <tr style=\"text-align: right;\">\n",
       "      <th></th>\n",
       "      <th>worker_id</th>\n",
       "      <th>task_id</th>\n",
       "      <th>task_response_id</th>\n",
       "      <th>is_reviewed</th>\n",
       "      <th>review_score</th>\n",
       "      <th>text</th>\n",
       "      <th>Is this text toxic?</th>\n",
       "    </tr>\n",
       "  </thead>\n",
       "  <tbody>\n",
       "    <tr>\n",
       "      <th>0</th>\n",
       "      <td>ZVDKTXAXYHRV</td>\n",
       "      <td>d309deac-784d-4d7b-8fff-01f4a258fc48</td>\n",
       "      <td>002fe204-d495-4eca-abac-af0129dd11c3</td>\n",
       "      <td>False</td>\n",
       "      <td>NaN</td>\n",
       "      <td>when my cat calls it a night and curls up next...</td>\n",
       "      <td>Not Toxic</td>\n",
       "    </tr>\n",
       "    <tr>\n",
       "      <th>1</th>\n",
       "      <td>XJKGQQWFXKTX</td>\n",
       "      <td>3132ddc4-b762-4757-b731-477073bb38ab</td>\n",
       "      <td>0052e1ce-a7d4-4902-a8a3-ae9177bbd139</td>\n",
       "      <td>False</td>\n",
       "      <td>NaN</td>\n",
       "      <td>Bjergsen moving to C9 Academy for sure. Darsha...</td>\n",
       "      <td>Not Toxic</td>\n",
       "    </tr>\n",
       "    <tr>\n",
       "      <th>2</th>\n",
       "      <td>DKJR6EW9AWVD</td>\n",
       "      <td>1bec4e23-7db5-4a5f-acac-08526c29bf20</td>\n",
       "      <td>0136f9eb-d957-4e46-b43b-03c24cfb54bf</td>\n",
       "      <td>False</td>\n",
       "      <td>NaN</td>\n",
       "      <td>Waiting for Hadestown announcements....</td>\n",
       "      <td>Not Toxic</td>\n",
       "    </tr>\n",
       "    <tr>\n",
       "      <th>3</th>\n",
       "      <td>PJGJWJY2PNKC</td>\n",
       "      <td>21217e8b-df0e-4f86-8c19-cd3459fa1b23</td>\n",
       "      <td>014e7335-1665-46ee-b795-2d697ed7a2e9</td>\n",
       "      <td>False</td>\n",
       "      <td>NaN</td>\n",
       "      <td>How about you fk off with your stupid spider. ...</td>\n",
       "      <td>Toxic</td>\n",
       "    </tr>\n",
       "    <tr>\n",
       "      <th>4</th>\n",
       "      <td>4KDNMYPMNZXC</td>\n",
       "      <td>0c0792c9-3852-491a-8a25-818af2bd7705</td>\n",
       "      <td>015a8fb2-873e-45ab-bfb6-cf258c017f84</td>\n",
       "      <td>False</td>\n",
       "      <td>NaN</td>\n",
       "      <td>\" Amazing Humans\"????Not in my book( Pun inten...</td>\n",
       "      <td>Toxic</td>\n",
       "    </tr>\n",
       "  </tbody>\n",
       "</table>\n",
       "</div>"
      ],
      "text/plain": [
       "      worker_id                               task_id  \\\n",
       "0  ZVDKTXAXYHRV  d309deac-784d-4d7b-8fff-01f4a258fc48   \n",
       "1  XJKGQQWFXKTX  3132ddc4-b762-4757-b731-477073bb38ab   \n",
       "2  DKJR6EW9AWVD  1bec4e23-7db5-4a5f-acac-08526c29bf20   \n",
       "3  PJGJWJY2PNKC  21217e8b-df0e-4f86-8c19-cd3459fa1b23   \n",
       "4  4KDNMYPMNZXC  0c0792c9-3852-491a-8a25-818af2bd7705   \n",
       "\n",
       "                       task_response_id  is_reviewed  review_score  \\\n",
       "0  002fe204-d495-4eca-abac-af0129dd11c3        False           NaN   \n",
       "1  0052e1ce-a7d4-4902-a8a3-ae9177bbd139        False           NaN   \n",
       "2  0136f9eb-d957-4e46-b43b-03c24cfb54bf        False           NaN   \n",
       "3  014e7335-1665-46ee-b795-2d697ed7a2e9        False           NaN   \n",
       "4  015a8fb2-873e-45ab-bfb6-cf258c017f84        False           NaN   \n",
       "\n",
       "                                                text Is this text toxic?  \n",
       "0  when my cat calls it a night and curls up next...           Not Toxic  \n",
       "1  Bjergsen moving to C9 Academy for sure. Darsha...           Not Toxic  \n",
       "2            Waiting for Hadestown announcements....           Not Toxic  \n",
       "3  How about you fk off with your stupid spider. ...               Toxic  \n",
       "4  \" Amazing Humans\"????Not in my book( Pun inten...               Toxic  "
      ]
     },
     "execution_count": 2,
     "metadata": {},
     "output_type": "execute_result"
    }
   ],
   "source": [
    "# load datasets \n",
    "import warnings\n",
    "warnings.filterwarnings('ignore')\n",
    "\n",
    "df=pd.read_csv(\"https://raw.githubusercontent.com/Visap1/MyFirstRepo/main/Social%20Media%20Toxicity%20Dataset.csv\")\n",
    "len(df)# check number of roles \n",
    "\n",
    "df.head()\n"
   ]
  },
  {
   "cell_type": "markdown",
   "id": "4c69d02e-758e-4d7e-a43d-a72225b45136",
   "metadata": {},
   "source": [
    "### Select and Remane Columns \n",
    "\n",
    "I selected the relevant columns with text and sentiments for my analysis. Further, I renamed the Is this text column into sentiment.  In addition, the graphs show that the data has 50%(500) of the comments were toxic, and 50%(500) were nontoxic. It is important to also note that the sentiments are not arrange in a specific order. "
   ]
  },
  {
   "cell_type": "code",
   "execution_count": 3,
   "id": "7c80c92a",
   "metadata": {},
   "outputs": [
    {
     "data": {
      "text/html": [
       "<div>\n",
       "<style scoped>\n",
       "    .dataframe tbody tr th:only-of-type {\n",
       "        vertical-align: middle;\n",
       "    }\n",
       "\n",
       "    .dataframe tbody tr th {\n",
       "        vertical-align: top;\n",
       "    }\n",
       "\n",
       "    .dataframe thead th {\n",
       "        text-align: right;\n",
       "    }\n",
       "</style>\n",
       "<table border=\"1\" class=\"dataframe\">\n",
       "  <thead>\n",
       "    <tr style=\"text-align: right;\">\n",
       "      <th></th>\n",
       "      <th>text</th>\n",
       "      <th>sentiment</th>\n",
       "    </tr>\n",
       "  </thead>\n",
       "  <tbody>\n",
       "    <tr>\n",
       "      <th>0</th>\n",
       "      <td>when my cat calls it a night and curls up next...</td>\n",
       "      <td>Not Toxic</td>\n",
       "    </tr>\n",
       "    <tr>\n",
       "      <th>1</th>\n",
       "      <td>Bjergsen moving to C9 Academy for sure. Darsha...</td>\n",
       "      <td>Not Toxic</td>\n",
       "    </tr>\n",
       "    <tr>\n",
       "      <th>2</th>\n",
       "      <td>Waiting for Hadestown announcements....</td>\n",
       "      <td>Not Toxic</td>\n",
       "    </tr>\n",
       "    <tr>\n",
       "      <th>3</th>\n",
       "      <td>How about you fk off with your stupid spider. ...</td>\n",
       "      <td>Toxic</td>\n",
       "    </tr>\n",
       "    <tr>\n",
       "      <th>4</th>\n",
       "      <td>\" Amazing Humans\"????Not in my book( Pun inten...</td>\n",
       "      <td>Toxic</td>\n",
       "    </tr>\n",
       "    <tr>\n",
       "      <th>...</th>\n",
       "      <td>...</td>\n",
       "      <td>...</td>\n",
       "    </tr>\n",
       "    <tr>\n",
       "      <th>995</th>\n",
       "      <td>I did not only post it on reddit, altough I'm ...</td>\n",
       "      <td>Not Toxic</td>\n",
       "    </tr>\n",
       "    <tr>\n",
       "      <th>996</th>\n",
       "      <td>Seriously, why is she still in office! I bet s...</td>\n",
       "      <td>Toxic</td>\n",
       "    </tr>\n",
       "    <tr>\n",
       "      <th>997</th>\n",
       "      <td>Barely 72 hours after C9 gets spanked and they...</td>\n",
       "      <td>Not Toxic</td>\n",
       "    </tr>\n",
       "    <tr>\n",
       "      <th>998</th>\n",
       "      <td>Build a new Mayflower that can be used to send...</td>\n",
       "      <td>Toxic</td>\n",
       "    </tr>\n",
       "    <tr>\n",
       "      <th>999</th>\n",
       "      <td>He actually drew the entire storyboard. He lat...</td>\n",
       "      <td>Not Toxic</td>\n",
       "    </tr>\n",
       "  </tbody>\n",
       "</table>\n",
       "<p>1000 rows × 2 columns</p>\n",
       "</div>"
      ],
      "text/plain": [
       "                                                  text  sentiment\n",
       "0    when my cat calls it a night and curls up next...  Not Toxic\n",
       "1    Bjergsen moving to C9 Academy for sure. Darsha...  Not Toxic\n",
       "2              Waiting for Hadestown announcements....  Not Toxic\n",
       "3    How about you fk off with your stupid spider. ...      Toxic\n",
       "4    \" Amazing Humans\"????Not in my book( Pun inten...      Toxic\n",
       "..                                                 ...        ...\n",
       "995  I did not only post it on reddit, altough I'm ...  Not Toxic\n",
       "996  Seriously, why is she still in office! I bet s...      Toxic\n",
       "997  Barely 72 hours after C9 gets spanked and they...  Not Toxic\n",
       "998  Build a new Mayflower that can be used to send...      Toxic\n",
       "999  He actually drew the entire storyboard. He lat...  Not Toxic\n",
       "\n",
       "[1000 rows x 2 columns]"
      ]
     },
     "execution_count": 3,
     "metadata": {},
     "output_type": "execute_result"
    }
   ],
   "source": [
    "sub_df= df[['text','Is this text toxic?']]# we selected text and coding \n",
    "sub_df.rename(columns = {'Is this text toxic?':'sentiment'}, inplace = True)\n",
    "sub_df\n"
   ]
  },
  {
   "cell_type": "code",
   "execution_count": 4,
   "id": "50117af8",
   "metadata": {},
   "outputs": [
    {
     "data": {
      "text/plain": [
       "<AxesSubplot:ylabel='sentiment'>"
      ]
     },
     "execution_count": 4,
     "metadata": {},
     "output_type": "execute_result"
    },
    {
     "data": {
      "image/png": "[encoded data removed]",
      "text/plain": [
       "<Figure size 400x400 with 1 Axes>"
      ]
     },
     "metadata": {},
     "output_type": "display_data"
    }
   ],
   "source": [
    "sub_df.sentiment.value_counts().plot(kind='pie', autopct='%1.0f%%',\n",
    "                                   figsize=(4,4),colors=[\"red\", \"blue\"])"
   ]
  },
  {
   "cell_type": "code",
   "execution_count": 5,
   "id": "8fad8d2e",
   "metadata": {},
   "outputs": [
    {
     "data": {
      "text/plain": [
       "Not Toxic    500\n",
       "Toxic        500\n",
       "Name: sentiment, dtype: int64"
      ]
     },
     "execution_count": 5,
     "metadata": {},
     "output_type": "execute_result"
    }
   ],
   "source": [
    "# check the counts of toxic comments \n",
    "import numpy as pd \n",
    "sub_df['sentiment'].value_counts()\n",
    "#sub_df.isnull().any() #no missing values "
   ]
  },
  {
   "cell_type": "markdown",
   "id": "e5c7a998-2218-4cf0-96ad-bdcc042120e1",
   "metadata": {},
   "source": [
    "##  Pre-processing\n",
    "\n",
    "This phase focuses on preparing data for machine learning. This involves dealing with url, stopwords, 'stemming,’ and 'lemmatize' the tweets. The sentences will also be set to lowercase. Kedia and Rasu(2020, p. 149) argue that “poorly processed data  are guaranteed to train models with low accuracy.” To avaoid this pitfall, I cleaned the data and created a new column called clean text with processed information. "
   ]
  },
  {
   "cell_type": "code",
   "execution_count": 6,
   "id": "5d8c17a4-443f-4f8b-82c3-e8fa5ae2f7ee",
   "metadata": {},
   "outputs": [],
   "source": [
    "def preprocess(sentence):\n",
    "    sentence=str(sentence)\n",
    "    sentence = sentence.lower()\n",
    "    sentence=sentence.replace('{html}',\"\") \n",
    "    cleanr = re.compile('<.*?>')\n",
    "    cleantext = re.sub(cleanr, '', sentence)\n",
    "    rem_url=re.sub(r'http\\S+', '',cleantext)\n",
    "    rem_num = re.sub('[0-9]+', '', rem_url)\n",
    "    tokenizer = RegexpTokenizer(r'\\w+')\n",
    "    tokens = tokenizer.tokenize(rem_num)  \n",
    "    filtered_words = [w for w in tokens if len(w) > 2 if not w in stopwords.words('english')]\n",
    "    stem_words=[stemmer.stem(w) for w in filtered_words]\n",
    "    lemma_words=[lemmatizer.lemmatize(w) for w in stem_words]\n",
    "    return \" \".join(filtered_words)\n",
    "\n",
    "\n",
    "sub_df['cleanText']=sub_df['text'].map(lambda s:preprocess(s)) "
   ]
  },
  {
   "cell_type": "markdown",
   "id": "ec069327",
   "metadata": {},
   "source": [
    "### LabelEncoder (*Transform Categorical variables*) \n",
    "\n",
    "The sentiment column will be transformed using the *labelEncorder* from sklearn. This will help in preparing data for the ML model. ML does not work with categorical data but numeric variables (Kedia and Rasu, 2020, p. 151). Hence the column will be transformed to have 0(Nontoxic) and 1(Toxic) comments. "
   ]
  },
  {
   "cell_type": "code",
   "execution_count": 7,
   "id": "974cc1b4",
   "metadata": {},
   "outputs": [
    {
     "data": {
      "text/html": [
       "<div>\n",
       "<style scoped>\n",
       "    .dataframe tbody tr th:only-of-type {\n",
       "        vertical-align: middle;\n",
       "    }\n",
       "\n",
       "    .dataframe tbody tr th {\n",
       "        vertical-align: top;\n",
       "    }\n",
       "\n",
       "    .dataframe thead th {\n",
       "        text-align: right;\n",
       "    }\n",
       "</style>\n",
       "<table border=\"1\" class=\"dataframe\">\n",
       "  <thead>\n",
       "    <tr style=\"text-align: right;\">\n",
       "      <th></th>\n",
       "      <th>text</th>\n",
       "      <th>cleanText</th>\n",
       "      <th>sentiment</th>\n",
       "    </tr>\n",
       "  </thead>\n",
       "  <tbody>\n",
       "    <tr>\n",
       "      <th>0</th>\n",
       "      <td>when my cat calls it a night and curls up next...</td>\n",
       "      <td>cat calls night curls next bed literally feel ...</td>\n",
       "      <td>0</td>\n",
       "    </tr>\n",
       "    <tr>\n",
       "      <th>1</th>\n",
       "      <td>Bjergsen moving to C9 Academy for sure. Darsha...</td>\n",
       "      <td>bjergsen moving academy sure darshan enticing ...</td>\n",
       "      <td>0</td>\n",
       "    </tr>\n",
       "    <tr>\n",
       "      <th>2</th>\n",
       "      <td>Waiting for Hadestown announcements....</td>\n",
       "      <td>waiting hadestown announcements</td>\n",
       "      <td>0</td>\n",
       "    </tr>\n",
       "    <tr>\n",
       "      <th>3</th>\n",
       "      <td>How about you fk off with your stupid spider. ...</td>\n",
       "      <td>stupid spider btw live never follow shit</td>\n",
       "      <td>1</td>\n",
       "    </tr>\n",
       "    <tr>\n",
       "      <th>4</th>\n",
       "      <td>\" Amazing Humans\"????Not in my book( Pun inten...</td>\n",
       "      <td>amazing humans book pun intended terrible conf...</td>\n",
       "      <td>1</td>\n",
       "    </tr>\n",
       "  </tbody>\n",
       "</table>\n",
       "</div>"
      ],
      "text/plain": [
       "                                                text  \\\n",
       "0  when my cat calls it a night and curls up next...   \n",
       "1  Bjergsen moving to C9 Academy for sure. Darsha...   \n",
       "2            Waiting for Hadestown announcements....   \n",
       "3  How about you fk off with your stupid spider. ...   \n",
       "4  \" Amazing Humans\"????Not in my book( Pun inten...   \n",
       "\n",
       "                                           cleanText  sentiment  \n",
       "0  cat calls night curls next bed literally feel ...          0  \n",
       "1  bjergsen moving academy sure darshan enticing ...          0  \n",
       "2                    waiting hadestown announcements          0  \n",
       "3           stupid spider btw live never follow shit          1  \n",
       "4  amazing humans book pun intended terrible conf...          1  "
      ]
     },
     "execution_count": 7,
     "metadata": {},
     "output_type": "execute_result"
    }
   ],
   "source": [
    "le=LabelEncoder()\n",
    "label = le.fit_transform(sub_df['sentiment'])\n",
    "# drop the category column\n",
    "sub_df.drop(\"sentiment\", axis=1, inplace=True)\n",
    "# add the transformed labels to the dataframe \n",
    "sub_df[\"sentiment\"] = label\n",
    "sub_df.head()"
   ]
  },
  {
   "cell_type": "markdown",
   "id": "593379bd",
   "metadata": {},
   "source": [
    "## Count vectorizer, TFID Transformer\n",
    "I will use the Count vectoriser from sklearn to convert our list into a matrix. Further I use TFID to vectorise the text and  extracting feactures. Further, I will use the clained text column(cleanText) in the dataset. \n"
   ]
  },
  {
   "cell_type": "code",
   "execution_count": 8,
   "id": "16427512",
   "metadata": {},
   "outputs": [
    {
     "data": {
      "text/plain": [
       "matrix([[0., 0., 0., ..., 0., 0., 0.],\n",
       "        [0., 0., 0., ..., 0., 0., 0.],\n",
       "        [0., 0., 0., ..., 0., 0., 0.],\n",
       "        ...,\n",
       "        [0., 0., 0., ..., 0., 0., 0.],\n",
       "        [0., 0., 0., ..., 0., 0., 0.],\n",
       "        [0., 0., 0., ..., 0., 0., 0.]])"
      ]
     },
     "execution_count": 8,
     "metadata": {},
     "output_type": "execute_result"
    }
   ],
   "source": [
    "X = sub_df.iloc[:,1] # extract column with text(tweets)\n",
    "\n",
    "y = sub_df.iloc[:,- 1] # extract column with category(toxic or not toxic)\n",
    "\n",
    "# Count Vectorizer \n",
    "\n",
    "vectorizer= CountVectorizer(stop_words='english')\n",
    "X_vec=vectorizer.fit_transform(X)\n",
    "X_vec= X_vec.todense() #convert sparse matrix into dense matrix\n",
    "#len(X_vec)\n",
    "\n",
    "# The Tfidtransformer \n",
    "\n",
    "tfidf = TfidfTransformer()\n",
    "X_tfidf = tfidf.fit_transform(X_vec)\n",
    "X_tfidf = X_tfidf.todense()\n",
    "\n",
    "X_tfidf"
   ]
  },
  {
   "cell_type": "markdown",
   "id": "6754f98e",
   "metadata": {},
   "source": [
    "## Model 1: Naive Bayes Algorithm\n",
    "I split the data into two, in which (750)75% will be in the training dataset while (250)25% will be used for the testing dataset. I will then use the Multinomial Naive Bayes class from sklearn and fit the training data on the model. This implies that the NB classifier has learned the data and can classify the text as either toxic or not toxic. Further, the predicted probabilities of the model will be stored ion y_pred. This processes is guided by (Kedia and Rasu 2020, p. 161). "
   ]
  },
  {
   "cell_type": "code",
   "execution_count": 9,
   "id": "83ace51a",
   "metadata": {},
   "outputs": [],
   "source": [
    "from sklearn.naive_bayes import MultinomialNB\n",
    "from sklearn.model_selection import train_test_split\n",
    "\n",
    "# Create Training and Testing dataset \n",
    "X_train, X_test, y_train, y_test = train_test_split(X_tfidf, y, \n",
    "                                                   test_size = 0.25, random_state = 0)\n",
    "#Create a Beyes Model\n",
    "clf = MultinomialNB() \n",
    "clf.fit(X_train, y_train)\n",
    "# predict sentiments on the test X dataset \n",
    "y_pred = clf.predict(X_test)"
   ]
  },
  {
   "cell_type": "markdown",
   "id": "4b3da77b",
   "metadata": {},
   "source": [
    "### Performance of the Model"
   ]
  },
  {
   "cell_type": "markdown",
   "id": "02bdc1d2",
   "metadata": {},
   "source": [
    "The confusion matrix will be used to assess the performance of the model. The matrix \"calculates the number of correct predictions broken down for each classification\" . I will show the percentage per classification and actual counts.  The code for visualizing the matrix was obtained from the following source:\n",
    "https://www.stackvidhya.com/plot-confusion-matrix-in-python-and-why/ \n"
   ]
  },
  {
   "cell_type": "code",
   "execution_count": 10,
   "id": "bd060701",
   "metadata": {},
   "outputs": [
    {
     "data": {
      "image/png": "[encoded data removed]",
      "text/plain": [
       "<Figure size 640x480 with 2 Axes>"
      ]
     },
     "metadata": {},
     "output_type": "display_data"
    }
   ],
   "source": [
    "from sklearn.metrics import confusion_matrix,accuracy_score \n",
    "import numpy as np\n",
    "import seaborn as sns \n",
    "cf_matrix=confusion_matrix(y_test,y_pred)\n",
    "\n",
    "group_names = ['True Neg','False Pos','False Neg','True pos']\n",
    "\n",
    "group_counts = [\"{0:0.0f}\".format(value) for value in\n",
    "                cf_matrix.flatten()]\n",
    "\n",
    "group_percentages = [\"{0:.2%}\".format(value) for value in\n",
    "                     cf_matrix.flatten()/np.sum(cf_matrix)]\n",
    "\n",
    "labels = [f\"{v1}\\n{v2}\\n{v3}\" for v1, v2, v3 in\n",
    "          zip(group_names,group_counts,group_percentages)]\n",
    "\n",
    "labels = np.asarray(labels).reshape(2,2)\n",
    "\n",
    "ax = sns.heatmap(cf_matrix, annot=labels, fmt='', cmap='Blues')\n",
    "\n",
    "ax.set_title('Confusion Matrix- Naive Bayes Model\\n\\n');\n",
    "ax.set_xlabel('\\nPredicted Values')\n",
    "ax.set_ylabel('Actual Values ');\n",
    "\n",
    "##  labels - List must be in alphabetical order\n",
    "ax.xaxis.set_ticklabels(['FALSE','TRUE'])\n",
    "ax.yaxis.set_ticklabels(['FALSE','TRUE'])\n",
    "\n",
    "## Display the visualization of the Confusion Matrix.\n",
    "plt.show()\n",
    " \n",
    "#confusion_matrix(y_test, y_pred)"
   ]
  },
  {
   "cell_type": "markdown",
   "id": "ca839d29",
   "metadata": {},
   "source": [
    "The confusion Matrix above shows that the model predicted a score of 125 values as 0(not toxic), of which 107(42.8%) were correctly predicted while 18(7.20%) were incorrectly predicted. Further, 125 were predicted as toxic with a score of 1, out of which 104(41.80) were correctly predicted while 21(8.40%) were incorrectly predicted. The overall performance of the model was 84%. Additionally, precession at predicting nontoxic and toxic comments was 86% and 83% respectively. Below is the classification report."
   ]
  },
  {
   "cell_type": "code",
   "execution_count": 11,
   "id": "6f03a835",
   "metadata": {},
   "outputs": [
    {
     "name": "stdout",
     "output_type": "stream",
     "text": [
      "              precision    recall  f1-score   support\n",
      "\n",
      "           0       0.86      0.84      0.85       128\n",
      "           1       0.83      0.85      0.84       122\n",
      "\n",
      "    accuracy                           0.84       250\n",
      "   macro avg       0.84      0.84      0.84       250\n",
      "weighted avg       0.84      0.84      0.84       250\n",
      "\n"
     ]
    }
   ],
   "source": [
    "from sklearn.metrics import classification_report\n",
    "print(classification_report(y_test,y_pred))\n",
    "#accuracy_score(y_test,y_pred)"
   ]
  },
  {
   "cell_type": "markdown",
   "id": "ffe6ef0a",
   "metadata": {},
   "source": [
    "## Model 2 :SVC Algorithm "
   ]
  },
  {
   "cell_type": "code",
   "execution_count": 12,
   "id": "4c30ec78",
   "metadata": {},
   "outputs": [],
   "source": [
    "from sklearn.svm import SVC \n",
    "classifier = SVC(kernel='linear') \n",
    "classifier.fit(X_train, y_train)\n",
    "Y_pred = classifier.predict(X_test)"
   ]
  },
  {
   "cell_type": "code",
   "execution_count": 13,
   "id": "d5ecd35d",
   "metadata": {},
   "outputs": [
    {
     "data": {
      "image/png": "[encoded data removed]",
      "text/plain": [
       "<Figure size 640x480 with 2 Axes>"
      ]
     },
     "metadata": {},
     "output_type": "display_data"
    }
   ],
   "source": [
    "from sklearn.metrics import confusion_matrix \n",
    "\n",
    "CF_matrix=confusion_matrix(y_test, Y_pred)\n",
    "\n",
    "group_names = ['True Neg','False Pos','False Neg','True Pos']\n",
    "\n",
    "group_counts = [\"{0:0.0f}\".format(value) for value in\n",
    "                CF_matrix.flatten()]\n",
    "\n",
    "group_percentages = [\"{0:.2%}\".format(value) for value in\n",
    "                     CF_matrix.flatten()/np.sum(CF_matrix)]\n",
    "\n",
    "labels = [f\"{v1}\\n{v2}\\n{v3}\" for v1, v2, v3 in\n",
    "          zip(group_names,group_counts,group_percentages)]\n",
    "\n",
    "labels = np.asarray(labels).reshape(2,2)\n",
    "\n",
    "ax = sns.heatmap(CF_matrix, annot=labels, fmt='', cmap='Blues')\n",
    "\n",
    "ax.set_title('SVM Confusion Matrix\\n\\n');\n",
    "ax.set_xlabel('\\nPredicted Values')\n",
    "ax.set_ylabel('Actual Values ');\n",
    "\n",
    "## Ticket labels - List must be in alphabetical order\n",
    "ax.xaxis.set_ticklabels(['False','True'])\n",
    "ax.yaxis.set_ticklabels(['False','True'])\n",
    "\n",
    "## Display the visualization of the Confusion Matrix.\n",
    "plt.show()\n",
    "#confusion_matrix(y_test,Y_pred)"
   ]
  },
  {
   "cell_type": "code",
   "execution_count": 14,
   "id": "91d4d3aa",
   "metadata": {},
   "outputs": [
    {
     "name": "stdout",
     "output_type": "stream",
     "text": [
      "              precision    recall  f1-score   support\n",
      "\n",
      "           0       0.84      0.91      0.87       128\n",
      "           1       0.90      0.81      0.85       122\n",
      "\n",
      "    accuracy                           0.86       250\n",
      "   macro avg       0.87      0.86      0.86       250\n",
      "weighted avg       0.87      0.86      0.86       250\n",
      "\n"
     ]
    }
   ],
   "source": [
    "accuracy_score(y_test,Y_pred)\n",
    "print(classification_report(y_test,Y_pred))"
   ]
  },
  {
   "cell_type": "markdown",
   "id": "0c353ec2",
   "metadata": {},
   "source": [
    "The confusion Matrix above shows that the model predicted a score of 140 values as 0(not toxic), of which 117 were correctly predicted while 23(9.20%) were incorrectly predicted. Further, 110 were predicted as toxic with a score of 1, out of which 99(39.60%) were correctly predicted while 11(4.40%) were incorrectly predicted. The overall performance of the model was 86%. Additionally, precession at predicting nontoxic and toxic comments was 84% and 90% respectively. Below is classification report of the model. "
   ]
  },
  {
   "cell_type": "markdown",
   "id": "2b1fbb40",
   "metadata": {},
   "source": [
    "\n",
    "### Discussion \n",
    " \n",
    "We can see from the results that SVM model performed better at classifying toxic comments. In addition, the model had a higher precision score of 86%, which is better than 84% of the NB model. This proves the results obtained by (Sidorov etal., n) they found that the SVM model had 86% precision while NB model had 78%. The study recommended a sample of 3000 tweets and the use of n-gram, using two polarity classes (positive and negative). They argue that if these are in place, the SVM model will record 85% precision. However, I found 86% precision with a sample of 1000 tweets. Another study by (Vikashi and Suyash, 2016, p. 1626) also established that SMV with linear SVC Improves classification effectiveness. The study found a good precision score of 93%. However, I acknowledge in this study that it would have been better to compare the performance of the models with the pre-trained models available on Hugging face(e.g transformer). The researcher tried to install the models but was unsuccessful with the installation due to technical issues with the computer. \n",
    "\n",
    "### Uses of the model \n",
    "\n",
    "The models are useful in social sciences, especially in regulating hate speech on social media. However, there is a need to expand the model's vocabulary to capture information that is not in English. \n"
   ]
  },
  {
   "cell_type": "code",
   "execution_count": null,
   "id": "de3550dc",
   "metadata": {},
   "outputs": [],
   "source": [
    "#\n",
    "vad_pred=new_df1.iloc[:,-1]\n",
    "Actual=new_df1.iloc[:,1]\n",
    "\n",
    "#confusion_matrix(Actual,vad_pred)\n",
    "from wordcloud import WordCloud, STOPWORDS\n",
    "\n"
   ]
  },
  {
   "cell_type": "code",
   "execution_count": null,
   "id": "ac39536e",
   "metadata": {},
   "outputs": [],
   "source": [
    "from nltk.stem import WordNetLemmatizer\n",
    "lemmer = WordNetLemmatizer()\n",
    "stopwords = nltk.corpus.stopwords.words('english')\n",
    "from nltk.tokenize import TweetTokenizer\n",
    "\n",
    "sub_df.head() "
   ]
  },
  {
   "cell_type": "code",
   "execution_count": null,
   "id": "cd447ede",
   "metadata": {},
   "outputs": [],
   "source": [
    "def wordcloud_plot(category, name) : \n",
    "    plt.figure(figsize=(20,15))\n",
    "    wc = WordCloud(background_color=\"black\", max_words=500, min_font_size=6 \n",
    "                 , stopwords=stopwords, max_font_size= 60)\n",
    "    wc.generate(\" \".join(category))\n",
    "    plt.title(\"Twitter Wordlcloud \" + name +  \" Comments\", fontsize=30)\n",
    "    # plt.imshow(wc.recolor( colormap= 'Pastel1_r' , random_state=17), alpha=0.98)\n",
    "    plt.imshow(wc.recolor( colormap= 'Set1' , random_state=21), alpha=0.98)\n",
    "    plt.axis('off')\n",
    "    plt.savefig(name+'_wc.png')\n",
    "    return(True)\n",
    "\n",
    "wordcloud_plot(toxic,'Toxic')"
   ]
  },
  {
   "cell_type": "markdown",
   "id": "9e43ac80",
   "metadata": {},
   "source": [
    "### References \n",
    "\n",
    "Bail, C., 2021. Breaking the social media prism: how to make our platforms less polarizing. Princeton University Press, Princeton.\\\\\n",
    "\n",
    "Journal, I., n.d. SENTIMENT ANALYSIS OF TWITTER DATA.\\\\\n",
    "\n",
    "Persily, N., Tucker, J.A. (Eds.), 2020. Social Media and Democracy: The State of the Field, Prospects for Reform, SSRC Anxieties of Democracy. Cambridge University Press, Cambridge. https://doi.org/10.1017/9781108890960\\\\\n",
    "\n",
    "Grigori sidorove, Sabino Miranda Francisco Vivero(n): Empirical study of machine learning based approach\\\\\n",
    "\n",
    "\n",
    "https://www.kaggle.com/code/binodsharma1/twitter-sentiment-analysis\\\\\n",
    "\n",
    "https://www.stackvidhya.com/plot-confusion-matrix-in-python-and-why/"
   ]
  },
  {
   "cell_type": "markdown",
   "id": "13e9e13d",
   "metadata": {},
   "source": [
    "## Apendix "
   ]
  },
  {
   "cell_type": "code",
   "execution_count": 18,
   "id": "0503eb39",
   "metadata": {},
   "outputs": [],
   "source": [
    " \n",
    "toxic1=sub_df[sub_df.sentiment==1]['text'].values\n",
    "import numpy as np\n",
    "import pandas as pd\n",
    "\n",
    "def get_top_n_words(n_top_words, count_vectorizer, text_data):\n",
    "    '''\n",
    "    returns a tuple of the top n words in a sample and their \n",
    "    accompanying counts, given a CountVectorizer object and text sample\n",
    "    '''\n",
    "    vectorized_headlines = count_vectorizer.fit_transform(text_data.values)\n",
    "    vectorized_total = np.sum(vectorized_headlines, axis=0)\n",
    "    word_indices = np.flip(np.argsort(vectorized_total)[0,:], 1)\n",
    "    word_values = np.flip(np.sort(vectorized_total)[0,:],1)\n",
    "    \n",
    "    word_vectors = np.zeros((n_top_words, vectorized_headlines.shape[1]))\n",
    "    for i in range(n_top_words):\n",
    "        word_vectors[i,word_indices[0,i]] = 1\n",
    "\n",
    "    words = [word[0].encode('ascii').decode('utf-8') for \n",
    "             word in count_vectorizer.inverse_transform(word_vectors)]\n",
    "\n",
    "    return (words, word_values[0,:n_top_words].tolist()[0])\n",
    "    \n",
    "toxic_df = pd.DataFrame(toxic1,columns=['text'])\n",
    "toxic_df1=toxic_df.iloc[:,0]"
   ]
  },
  {
   "cell_type": "code",
   "execution_count": 20,
   "id": "4da812a0",
   "metadata": {},
   "outputs": [
    {
     "data": {
      "image/png": "[encoded data removed]",
      "text/plain": [
       "<Figure size 1600x800 with 1 Axes>"
      ]
     },
     "metadata": {},
     "output_type": "display_data"
    }
   ],
   "source": [
    "count_vectorizer = CountVectorizer(stop_words='english')\n",
    "words, word_values = get_top_n_words(n_top_words=10,\n",
    "                                     count_vectorizer=count_vectorizer, \n",
    "                                     text_data=toxic_df1)\n",
    "\n",
    "fig, ax = plt.subplots(figsize=(16,8))\n",
    "ax.bar(range(len(words)), word_values);\n",
    "ax.set_xticks(range(len(words)));\n",
    "ax.set_xticklabels(words, rotation='vertical');\n",
    "ax.set_title('Top 8 words in the dataset)');\n",
    "ax.set_xlabel('Word');\n",
    "ax.set_ylabel('Number of occurences');\n",
    "plt.show()"
   ]
  }
 ],
 "metadata": {
  "kernelspec": {
   "display_name": "Python 3 (ipykernel)",
   "language": "python",
   "name": "python3"
  },
  "language_info": {
   "codemirror_mode": {
    "name": "ipython",
    "version": 3
   },
   "file_extension": ".py",
   "mimetype": "text/x-python",
   "name": "python",
   "nbconvert_exporter": "python",
   "pygments_lexer": "ipython3",
   "version": "3.9.12"
  }
 },
 "nbformat": 4,
 "nbformat_minor": 5
}
