{
 "cells": [
  {
   "cell_type": "markdown",
   "id": "5d43e029",
   "metadata": {},
   "source": [
    "# Logistic Regression \n",
    "@ Victor Saidi Phiri"
   ]
  },
  {
   "cell_type": "markdown",
   "id": "a0b6e7de",
   "metadata": {},
   "source": [
    "# Question\n",
    "\n",
    "In this lab assignment you are going to work with data related to the survival of passengers of \n",
    "the RMS Titanic. “The sinking of the Titanic is one of the most infamous shipwrecks in\n",
    "history. On April 15, 1912, during her maiden voyage, the widely considered “unsinkable”\n",
    "RMS Titanic sank after colliding with an iceberg. Unfortunately, there weren’t enough\n",
    "lifeboats for everyone onboard, resulting in the death of 1502 out of 2224 passengers and\n",
    "crew. While there was some element of luck involved in surviving, it seems some groups of\n",
    "people were more likely to survive than others.” (Quote from the Kaggle Titanic Challenge). \n",
    "For the sake of this assignment, let’s imagine that you are called as an expert to a court case:\n",
    "Sue, one of the survivors of the Titanic accident is suing her father, Leonardo, for not\n",
    "accompanying Sue and her mother Kate on the trip and this way decreasing their chances of\n",
    "survival. The family planned to move to the US back in 1912. They bought 3\n",
    "rd\n",
    " class tickets\n",
    "for the three of them for 8 British Pounds each. (They did not get cabins with their 3\n",
    "rd\n",
    " class\n",
    "tickets.) The plan was that they embark in Southampton and all of them got on board, but\n",
    "Leonardo got separated from them in the rush of passengers during boarding. Later it turned\n",
    "out that Leonardo deliberately got separated from them and got off the boat before it’s\n",
    "departure, to run away and live with his mistress. Sue was only 4 at the time, and Kate was\n",
    "20.During the accident Sue got on one of the last lifeboats and was later rescued, but there\n",
    "was no room for Kate on the lifeboat, and she did not survive the disaster. \n",
    "Now, 20 years later, Sue is suing her father for leaving them on the Titanic, because she\n",
    "thinks that this eventually led to Kate’s death, as the absence of Leonardo decreased their\n",
    "chances of survival. \n",
    "You are called in as an expert to this court case. Your task is to present a report about\n",
    "whether the presence of Leonardo statistically could have led to an improved chance of\n",
    "survival. \n",
    "\n",
    "## Task:\n",
    "As usual, start with exploring your dataset. Do descriptive and exploratory analysis including \n",
    "visualization to understand the data and to see what type of data you are dealing with. \n",
    "You should build a statistical model with which you can accurately estimate Sue’s and Kate’s \n",
    "chances of survival. First you should fit a statistical model (for example a logistic regression\n",
    "model) on the dataset, calculate the regression equation, and use that equation to compute the\n",
    "survival probability for Sue and Kate separately with and without having Leonardo on board\n",
    "the ship with them. \n",
    "You can use whichever predictor you would like, but you need to build a model that can\n",
    "correctly predict the outcome value within the sample with at least 72% accuracy for BOTH\n",
    "those who actually survived and who actually died in the disaster. You need to check this in\n",
    "the Classification table. So it is not enough to have 72% overall correct percentage\n",
    "\n",
    "\n",
    "\n"
   ]
  },
  {
   "cell_type": "markdown",
   "id": "3d1492fd",
   "metadata": {},
   "source": [
    "# Load Libraries "
   ]
  },
  {
   "cell_type": "code",
   "execution_count": 79,
   "id": "8b89ab10",
   "metadata": {},
   "outputs": [
    {
     "name": "stderr",
     "output_type": "stream",
     "text": [
      "Warning message:\n",
      "\"package 'tidyr' was built under R version 3.6.2\"\n",
      "\n",
      "Attaching package: 'tidyr'\n",
      "\n",
      "\n",
      "The following object is masked from 'package:sjmisc':\n",
      "\n",
      "    replace_na\n",
      "\n",
      "\n"
     ]
    }
   ],
   "source": [
    "library(dplyr)\n",
    "library(psych)\n",
    "library(gridExtra)\n",
    "library(readr)\n",
    "library(pscl) # for pR2\n",
    "library(lmtest) # for lrtest\n",
    "library(Amelia)\n",
    "library(dominanceanalysis) # for dominanceAnalysis()\n",
    "library(broom)\n",
    "library(knitr)\n",
    "library(sjPlot)\n",
    "library(sjmisc)\n",
    "library(sjlabelled)\n",
    "library(visdat)# visualise missing values \n",
    "#library(modelsummary)\n",
    "library(ggplot2)\n",
    "library(tidyr)\n",
    "\n"
   ]
  },
  {
   "cell_type": "markdown",
   "id": "1f2ec017",
   "metadata": {},
   "source": [
    "# Load dataset "
   ]
  },
  {
   "cell_type": "code",
   "execution_count": 5,
   "id": "183a1da9",
   "metadata": {},
   "outputs": [
    {
     "name": "stderr",
     "output_type": "stream",
     "text": [
      "Parsed with column specification:\n",
      "cols(\n",
      "  PassengerId = \u001b[32mcol_double()\u001b[39m,\n",
      "  Survived = \u001b[32mcol_double()\u001b[39m,\n",
      "  Pclass = \u001b[32mcol_double()\u001b[39m,\n",
      "  Name = \u001b[31mcol_character()\u001b[39m,\n",
      "  Sex = \u001b[31mcol_character()\u001b[39m,\n",
      "  Age = \u001b[32mcol_double()\u001b[39m,\n",
      "  SibSp = \u001b[32mcol_double()\u001b[39m,\n",
      "  Parch = \u001b[32mcol_double()\u001b[39m,\n",
      "  Ticket = \u001b[31mcol_character()\u001b[39m,\n",
      "  Fare = \u001b[32mcol_double()\u001b[39m,\n",
      "  Cabin = \u001b[31mcol_character()\u001b[39m,\n",
      "  Embarked = \u001b[31mcol_character()\u001b[39m\n",
      ")\n",
      "\n"
     ]
    }
   ],
   "source": [
    "\n",
    "df_Titanic=read_csv(\"https://raw.githubusercontent.com/kekecsz/SIMM61-Course-materials/main/Home_assignment/Titanic%20-%20training%20set.csv\")"
   ]
  },
  {
   "cell_type": "markdown",
   "id": "32b78629",
   "metadata": {},
   "source": [
    "## Data screening \n",
    "- We checked for the structure and missing values: data has 8.1% of missing  cases with Majority being in Cabinet and Age column "
   ]
  },
  {
   "cell_type": "code",
   "execution_count": 10,
   "id": "9da3cb7a",
   "metadata": {},
   "outputs": [
    {
     "data": {
      "text/html": [
       "<table>\n",
       "<caption>A tibble: 6 × 12</caption>\n",
       "<thead>\n",
       "\t<tr><th scope=col>PassengerId</th><th scope=col>Survived</th><th scope=col>Pclass</th><th scope=col>Name</th><th scope=col>Sex</th><th scope=col>Age</th><th scope=col>SibSp</th><th scope=col>Parch</th><th scope=col>Ticket</th><th scope=col>Fare</th><th scope=col>Cabin</th><th scope=col>Embarked</th></tr>\n",
       "\t<tr><th scope=col>&lt;dbl&gt;</th><th scope=col>&lt;dbl&gt;</th><th scope=col>&lt;dbl&gt;</th><th scope=col>&lt;chr&gt;</th><th scope=col>&lt;chr&gt;</th><th scope=col>&lt;dbl&gt;</th><th scope=col>&lt;dbl&gt;</th><th scope=col>&lt;dbl&gt;</th><th scope=col>&lt;chr&gt;</th><th scope=col>&lt;dbl&gt;</th><th scope=col>&lt;chr&gt;</th><th scope=col>&lt;chr&gt;</th></tr>\n",
       "</thead>\n",
       "<tbody>\n",
       "\t<tr><td>1</td><td>0</td><td>3</td><td>Braund, Mr. Owen Harris                            </td><td>male  </td><td>22</td><td>1</td><td>0</td><td>A/5 21171       </td><td> 7.2500</td><td>NA  </td><td>S</td></tr>\n",
       "\t<tr><td>2</td><td>1</td><td>1</td><td>Cumings, Mrs. John Bradley (Florence Briggs Thayer)</td><td>female</td><td>38</td><td>1</td><td>0</td><td>PC 17599        </td><td>71.2833</td><td>C85 </td><td>C</td></tr>\n",
       "\t<tr><td>3</td><td>1</td><td>3</td><td>Heikkinen, Miss. Laina                             </td><td>female</td><td>26</td><td>0</td><td>0</td><td>STON/O2. 3101282</td><td> 7.9250</td><td>NA  </td><td>S</td></tr>\n",
       "\t<tr><td>4</td><td>1</td><td>1</td><td>Futrelle, Mrs. Jacques Heath (Lily May Peel)       </td><td>female</td><td>35</td><td>1</td><td>0</td><td>113803          </td><td>53.1000</td><td>C123</td><td>S</td></tr>\n",
       "\t<tr><td>5</td><td>0</td><td>3</td><td>Allen, Mr. William Henry                           </td><td>male  </td><td>35</td><td>0</td><td>0</td><td>373450          </td><td> 8.0500</td><td>NA  </td><td>S</td></tr>\n",
       "\t<tr><td>6</td><td>0</td><td>3</td><td>Moran, Mr. James                                   </td><td>male  </td><td>NA</td><td>0</td><td>0</td><td>330877          </td><td> 8.4583</td><td>NA  </td><td>Q</td></tr>\n",
       "</tbody>\n",
       "</table>\n"
      ],
      "text/latex": [
       "A tibble: 6 × 12\n",
       "\\begin{tabular}{llllllllllll}\n",
       " PassengerId & Survived & Pclass & Name & Sex & Age & SibSp & Parch & Ticket & Fare & Cabin & Embarked\\\\\n",
       " <dbl> & <dbl> & <dbl> & <chr> & <chr> & <dbl> & <dbl> & <dbl> & <chr> & <dbl> & <chr> & <chr>\\\\\n",
       "\\hline\n",
       "\t 1 & 0 & 3 & Braund, Mr. Owen Harris                             & male   & 22 & 1 & 0 & A/5 21171        &  7.2500 & NA   & S\\\\\n",
       "\t 2 & 1 & 1 & Cumings, Mrs. John Bradley (Florence Briggs Thayer) & female & 38 & 1 & 0 & PC 17599         & 71.2833 & C85  & C\\\\\n",
       "\t 3 & 1 & 3 & Heikkinen, Miss. Laina                              & female & 26 & 0 & 0 & STON/O2. 3101282 &  7.9250 & NA   & S\\\\\n",
       "\t 4 & 1 & 1 & Futrelle, Mrs. Jacques Heath (Lily May Peel)        & female & 35 & 1 & 0 & 113803           & 53.1000 & C123 & S\\\\\n",
       "\t 5 & 0 & 3 & Allen, Mr. William Henry                            & male   & 35 & 0 & 0 & 373450           &  8.0500 & NA   & S\\\\\n",
       "\t 6 & 0 & 3 & Moran, Mr. James                                    & male   & NA & 0 & 0 & 330877           &  8.4583 & NA   & Q\\\\\n",
       "\\end{tabular}\n"
      ],
      "text/markdown": [
       "\n",
       "A tibble: 6 × 12\n",
       "\n",
       "| PassengerId &lt;dbl&gt; | Survived &lt;dbl&gt; | Pclass &lt;dbl&gt; | Name &lt;chr&gt; | Sex &lt;chr&gt; | Age &lt;dbl&gt; | SibSp &lt;dbl&gt; | Parch &lt;dbl&gt; | Ticket &lt;chr&gt; | Fare &lt;dbl&gt; | Cabin &lt;chr&gt; | Embarked &lt;chr&gt; |\n",
       "|---|---|---|---|---|---|---|---|---|---|---|---|\n",
       "| 1 | 0 | 3 | Braund, Mr. Owen Harris                             | male   | 22 | 1 | 0 | A/5 21171        |  7.2500 | NA   | S |\n",
       "| 2 | 1 | 1 | Cumings, Mrs. John Bradley (Florence Briggs Thayer) | female | 38 | 1 | 0 | PC 17599         | 71.2833 | C85  | C |\n",
       "| 3 | 1 | 3 | Heikkinen, Miss. Laina                              | female | 26 | 0 | 0 | STON/O2. 3101282 |  7.9250 | NA   | S |\n",
       "| 4 | 1 | 1 | Futrelle, Mrs. Jacques Heath (Lily May Peel)        | female | 35 | 1 | 0 | 113803           | 53.1000 | C123 | S |\n",
       "| 5 | 0 | 3 | Allen, Mr. William Henry                            | male   | 35 | 0 | 0 | 373450           |  8.0500 | NA   | S |\n",
       "| 6 | 0 | 3 | Moran, Mr. James                                    | male   | NA | 0 | 0 | 330877           |  8.4583 | NA   | Q |\n",
       "\n"
      ],
      "text/plain": [
       "  PassengerId Survived Pclass\n",
       "1 1           0        3     \n",
       "2 2           1        1     \n",
       "3 3           1        3     \n",
       "4 4           1        1     \n",
       "5 5           0        3     \n",
       "6 6           0        3     \n",
       "  Name                                                Sex    Age SibSp Parch\n",
       "1 Braund, Mr. Owen Harris                             male   22  1     0    \n",
       "2 Cumings, Mrs. John Bradley (Florence Briggs Thayer) female 38  1     0    \n",
       "3 Heikkinen, Miss. Laina                              female 26  0     0    \n",
       "4 Futrelle, Mrs. Jacques Heath (Lily May Peel)        female 35  1     0    \n",
       "5 Allen, Mr. William Henry                            male   35  0     0    \n",
       "6 Moran, Mr. James                                    male   NA  0     0    \n",
       "  Ticket           Fare    Cabin Embarked\n",
       "1 A/5 21171         7.2500 NA    S       \n",
       "2 PC 17599         71.2833 C85   C       \n",
       "3 STON/O2. 3101282  7.9250 NA    S       \n",
       "4 113803           53.1000 C123  S       \n",
       "5 373450            8.0500 NA    S       \n",
       "6 330877            8.4583 NA    Q       "
      ]
     },
     "metadata": {},
     "output_type": "display_data"
    },
    {
     "name": "stdout",
     "output_type": "stream",
     "text": [
      "Classes 'spec_tbl_df', 'tbl_df', 'tbl' and 'data.frame':\t891 obs. of  12 variables:\n",
      " $ PassengerId: num  1 2 3 4 5 6 7 8 9 10 ...\n",
      " $ Survived   : num  0 1 1 1 0 0 0 0 1 1 ...\n",
      " $ Pclass     : num  3 1 3 1 3 3 1 3 3 2 ...\n",
      " $ Name       : chr  \"Braund, Mr. Owen Harris\" \"Cumings, Mrs. John Bradley (Florence Briggs Thayer)\" \"Heikkinen, Miss. Laina\" \"Futrelle, Mrs. Jacques Heath (Lily May Peel)\" ...\n",
      " $ Sex        : chr  \"male\" \"female\" \"female\" \"female\" ...\n",
      " $ Age        : num  22 38 26 35 35 NA 54 2 27 14 ...\n",
      " $ SibSp      : num  1 1 0 1 0 0 0 3 0 1 ...\n",
      " $ Parch      : num  0 0 0 0 0 0 0 1 2 0 ...\n",
      " $ Ticket     : chr  \"A/5 21171\" \"PC 17599\" \"STON/O2. 3101282\" \"113803\" ...\n",
      " $ Fare       : num  7.25 71.28 7.92 53.1 8.05 ...\n",
      " $ Cabin      : chr  NA \"C85\" NA \"C123\" ...\n",
      " $ Embarked   : chr  \"S\" \"C\" \"S\" \"S\" ...\n",
      " - attr(*, \"spec\")=\n",
      "  .. cols(\n",
      "  ..   PassengerId = \u001b[32mcol_double()\u001b[39m,\n",
      "  ..   Survived = \u001b[32mcol_double()\u001b[39m,\n",
      "  ..   Pclass = \u001b[32mcol_double()\u001b[39m,\n",
      "  ..   Name = \u001b[31mcol_character()\u001b[39m,\n",
      "  ..   Sex = \u001b[31mcol_character()\u001b[39m,\n",
      "  ..   Age = \u001b[32mcol_double()\u001b[39m,\n",
      "  ..   SibSp = \u001b[32mcol_double()\u001b[39m,\n",
      "  ..   Parch = \u001b[32mcol_double()\u001b[39m,\n",
      "  ..   Ticket = \u001b[31mcol_character()\u001b[39m,\n",
      "  ..   Fare = \u001b[32mcol_double()\u001b[39m,\n",
      "  ..   Cabin = \u001b[31mcol_character()\u001b[39m,\n",
      "  ..   Embarked = \u001b[31mcol_character()\u001b[39m\n",
      "  .. )\n"
     ]
    },
    {
     "data": {
      "text/html": [
       "866"
      ],
      "text/latex": [
       "866"
      ],
      "text/markdown": [
       "866"
      ],
      "text/plain": [
       "[1] 866"
      ]
     },
     "metadata": {},
     "output_type": "display_data"
    },
    {
     "data": {
      "image/png": "[encoded data removed]",
      "text/plain": [
       "plot without title"
      ]
     },
     "metadata": {
      "image/png": {
       "height": 420,
       "width": 420
      },
      "text/plain": {
       "height": 420,
       "width": 420
      }
     },
     "output_type": "display_data"
    }
   ],
   "source": [
    "head(df_Titanic)\n",
    "str(df_Titanic)\n",
    "sum(is.na(df_Titanic))\n",
    "vis_miss(df_Titanic)"
   ]
  },
  {
   "cell_type": "markdown",
   "id": "36ab1695",
   "metadata": {},
   "source": [
    "## Data Manupulation "
   ]
  },
  {
   "cell_type": "code",
   "execution_count": 50,
   "id": "db4e086d",
   "metadata": {},
   "outputs": [
    {
     "name": "stdout",
     "output_type": "stream",
     "text": [
      "Classes 'spec_tbl_df', 'tbl_df', 'tbl' and 'data.frame':\t714 obs. of  12 variables:\n",
      " $ PassengerId: num  1 2 3 4 5 7 8 9 10 11 ...\n",
      " $ Survived   : num  0 1 1 1 0 0 0 1 1 1 ...\n",
      " $ Pclass     : num  3 1 3 1 3 1 3 3 2 3 ...\n",
      " $ Name       : chr  \"Braund, Mr. Owen Harris\" \"Cumings, Mrs. John Bradley (Florence Briggs Thayer)\" \"Heikkinen, Miss. Laina\" \"Futrelle, Mrs. Jacques Heath (Lily May Peel)\" ...\n",
      " $ Sex        : chr  \"male\" \"female\" \"female\" \"female\" ...\n",
      " $ Age        : num  22 38 26 35 35 54 2 27 14 4 ...\n",
      " $ SibSp      : num  1 1 0 1 0 0 3 0 1 1 ...\n",
      " $ Parch      : num  0 0 0 0 0 0 1 2 0 1 ...\n",
      " $ Ticket     : chr  \"A/5 21171\" \"PC 17599\" \"STON/O2. 3101282\" \"113803\" ...\n",
      " $ Fare       : num  7.25 71.28 7.92 53.1 8.05 ...\n",
      " $ Cabin      : chr  NA \"C85\" NA \"C123\" ...\n",
      " $ Embarked   : chr  \"S\" \"C\" \"S\" \"S\" ...\n",
      " - attr(*, \"spec\")=\n",
      "  .. cols(\n",
      "  ..   PassengerId = \u001b[32mcol_double()\u001b[39m,\n",
      "  ..   Survived = \u001b[32mcol_double()\u001b[39m,\n",
      "  ..   Pclass = \u001b[32mcol_double()\u001b[39m,\n",
      "  ..   Name = \u001b[31mcol_character()\u001b[39m,\n",
      "  ..   Sex = \u001b[31mcol_character()\u001b[39m,\n",
      "  ..   Age = \u001b[32mcol_double()\u001b[39m,\n",
      "  ..   SibSp = \u001b[32mcol_double()\u001b[39m,\n",
      "  ..   Parch = \u001b[32mcol_double()\u001b[39m,\n",
      "  ..   Ticket = \u001b[31mcol_character()\u001b[39m,\n",
      "  ..   Fare = \u001b[32mcol_double()\u001b[39m,\n",
      "  ..   Cabin = \u001b[31mcol_character()\u001b[39m,\n",
      "  ..   Embarked = \u001b[31mcol_character()\u001b[39m\n",
      "  .. )\n"
     ]
    },
    {
     "data": {
      "image/png": "[encoded data removed]",
      "text/plain": [
       "plot without title"
      ]
     },
     "metadata": {
      "image/png": {
       "height": 480,
       "width": 600
      },
      "text/plain": {
       "height": 480,
       "width": 600
      }
     },
     "output_type": "display_data"
    }
   ],
   "source": [
    "df_Titanic2=df_Titanic %>% filter(!is.na(Age))\n",
    "vis_miss(df_Titanic2)\n",
    "str(df_Titanic2)"
   ]
  },
  {
   "cell_type": "code",
   "execution_count": 52,
   "id": "58953ead",
   "metadata": {},
   "outputs": [
    {
     "name": "stdout",
     "output_type": "stream",
     "text": [
      "Classes 'spec_tbl_df', 'tbl_df', 'tbl' and 'data.frame':\t714 obs. of  12 variables:\n",
      " $ PassengerId: num  1 2 3 4 5 7 8 9 10 11 ...\n",
      " $ Survived   : Factor w/ 2 levels \"No\",\"Yes\": 1 2 2 2 1 1 1 2 2 2 ...\n",
      " $ Pclass     : Factor w/ 3 levels \"First Class\",..: 3 1 3 1 3 1 3 3 2 3 ...\n",
      " $ Name       : chr  \"Braund, Mr. Owen Harris\" \"Cumings, Mrs. John Bradley (Florence Briggs Thayer)\" \"Heikkinen, Miss. Laina\" \"Futrelle, Mrs. Jacques Heath (Lily May Peel)\" ...\n",
      " $ Sex        : Factor w/ 2 levels \"female\",\"male\": 2 1 1 1 2 2 2 1 1 1 ...\n",
      " $ Age        : num  22 38 26 35 35 54 2 27 14 4 ...\n",
      " $ SibSp      : num  1 1 0 1 0 0 3 0 1 1 ...\n",
      " $ Parch      : num  0 0 0 0 0 0 1 2 0 1 ...\n",
      " $ Ticket     : chr  \"A/5 21171\" \"PC 17599\" \"STON/O2. 3101282\" \"113803\" ...\n",
      " $ Fare       : num  7.25 71.28 7.92 53.1 8.05 ...\n",
      " $ Cabin      : chr  NA \"C85\" NA \"C123\" ...\n",
      " $ Embarked   : chr  \"S\" \"C\" \"S\" \"S\" ...\n"
     ]
    }
   ],
   "source": [
    "\n",
    "df<- df_Titanic2 %>%\n",
    "  mutate(Pclass = factor(Pclass, levels = c(1, 2, 3), labels = c('First Class', 'Second Class', 'Third Class')),\n",
    "\tSurvived = factor(Survived, levels = c(0, 1), labels = c('No', 'Yes')),\n",
    "\t                 Sex=as_factor(Sex,levels=c(0,1),labels=c(\"female\",\"male\")))\n",
    "\n",
    "str(df)"
   ]
  },
  {
   "cell_type": "markdown",
   "id": "814af2a8",
   "metadata": {},
   "source": [
    "### Subset dataframe "
   ]
  },
  {
   "cell_type": "code",
   "execution_count": 63,
   "id": "906dd594",
   "metadata": {},
   "outputs": [],
   "source": [
    "\n",
    "df1 <- df %>% \n",
    "  select(Age,\n",
    "         Sex,\n",
    "        Pclass,\n",
    "     Parch,\n",
    "        Survived,\n",
    "         SibSp)\n",
    "df1$Age=as.numeric(df1$Age)\n",
    "df1$Survuved=factor(df1$Survived)\n",
    "df1$SibSp= as.numeric(df1$SibSp)\n",
    "df1$Parch= as.numeric(df1$Parch)"
   ]
  },
  {
   "cell_type": "markdown",
   "id": "84e27644",
   "metadata": {},
   "source": [
    " # Data Visualizations "
   ]
  },
  {
   "cell_type": "code",
   "execution_count": 64,
   "id": "ab7fac41",
   "metadata": {},
   "outputs": [
    {
     "data": {
      "image/png": "[encoded data removed]",
      "text/plain": [
       "plot without title"
      ]
     },
     "metadata": {
      "image/png": {
       "height": 480,
       "width": 600
      },
      "text/plain": {
       "height": 480,
       "width": 600
      }
     },
     "output_type": "display_data"
    }
   ],
   "source": [
    "options(repr.plot.width = 10, repr.plot.height = 8)\n",
    "df1 %>%\n",
    "ggplot() +\n",
    "aes(x = Survived) +\n",
    "  geom_bar(aes(y = (..count..)/sum(..count..), fill=Survived), stat= \"count\")+\n",
    "  geom_text(aes(label = scales::percent(round((..count..)/sum(..count..),2)),\n",
    "                y= ((..count..)/sum(..count..))), stat=\"count\",\n",
    "            vjust = -.25) +\n",
    "  ggtitle(\"Survived\") + labs(y = \"percent\")+theme_bw()"
   ]
  },
  {
   "cell_type": "code",
   "execution_count": 65,
   "id": "36816af2",
   "metadata": {},
   "outputs": [
    {
     "data": {
      "image/png": "[encoded data removed]",
      "text/plain": [
       "plot without title"
      ]
     },
     "metadata": {
      "image/png": {
       "height": 480,
       "width": 600
      },
      "text/plain": {
       "height": 480,
       "width": 600
      }
     },
     "output_type": "display_data"
    }
   ],
   "source": [
    "options(repr.plot.width = 10, repr.plot.height = 8)\n",
    "ggplot(df1, aes(x=Sex,fill=Survived))+ geom_bar(position = \"dodge\") + \n",
    "geom_text(stat='count',aes(label=..count..),position = position_dodge(0.9),vjust=-0.2) +\n",
    "ylab(\"Number of Passengers\")+ theme_bw()"
   ]
  },
  {
   "cell_type": "markdown",
   "id": "159b547d",
   "metadata": {},
   "source": [
    "### Survived by passanger class \n"
   ]
  },
  {
   "cell_type": "code",
   "execution_count": 66,
   "id": "6e7c0e39",
   "metadata": {},
   "outputs": [
    {
     "data": {
      "image/png": "[encoded data removed]",
      "text/plain": [
       "plot without title"
      ]
     },
     "metadata": {
      "image/png": {
       "height": 480,
       "width": 600
      },
      "text/plain": {
       "height": 480,
       "width": 600
      }
     },
     "output_type": "display_data"
    }
   ],
   "source": [
    "ggplot(df1, aes(x=Pclass,fill=Survived))+ \n",
    "geom_bar(position = \"dodge\") + geom_text(stat='count',aes(label=..count..),position = position_dodge(0.9),vjust=-0.2) +\n",
    "ylab(\"Number of Passengers\") + xlab(\"Passenger Class\")+theme_bw()"
   ]
  },
  {
   "cell_type": "markdown",
   "id": "7a4f55eb",
   "metadata": {},
   "source": [
    "## Titanic Survival Rates by Age by Passanger class\n",
    "- High fatalities were recorded between ages 20-40.\n",
    "- Survival rates among males in the third class was very low "
   ]
  },
  {
   "cell_type": "code",
   "execution_count": 67,
   "id": "550c6593",
   "metadata": {},
   "outputs": [
    {
     "name": "stderr",
     "output_type": "stream",
     "text": [
      "`stat_bin()` using `bins = 30`. Pick better value with `binwidth`.\n",
      "\n"
     ]
    },
    {
     "data": {
      "image/png": "[encoded data removed]",
      "text/plain": [
       "plot without title"
      ]
     },
     "metadata": {
      "image/png": {
       "height": 480,
       "width": 600
      },
      "text/plain": {
       "height": 480,
       "width": 600
      }
     },
     "output_type": "display_data"
    }
   ],
   "source": [
    "df1 %>%\n",
    "ggplot() +\n",
    "aes(x = Age, fill = Survived) +\n",
    "theme_bw()+\n",
    "facet_wrap(Sex~Pclass)+\n",
    "geom_histogram()+\n",
    "labs(y=\"passanger count\",\n",
    "       tittle=\"Titanic Survival Rates by Age by Passanger class\")\n",
    " "
   ]
  },
  {
   "cell_type": "markdown",
   "id": "f5fd344c",
   "metadata": {},
   "source": [
    "###  Survival rate with sibling and or spouse by class\n",
    "\n",
    "There was a lower chance of survival for those who were with family in the third class"
   ]
  },
  {
   "cell_type": "code",
   "execution_count": 68,
   "id": "59fe01e4",
   "metadata": {},
   "outputs": [
    {
     "data": {
      "image/png": "[encoded data removed]",
      "text/plain": [
       "plot without title"
      ]
     },
     "metadata": {
      "image/png": {
       "height": 480,
       "width": 600
      },
      "text/plain": {
       "height": 480,
       "width": 600
      }
     },
     "output_type": "display_data"
    }
   ],
   "source": [
    "df1 %>%\n",
    "ggplot() +\n",
    "aes(x = SibSp, fill = Survived) +\n",
    "theme_dark()+\n",
    "facet_wrap(~Pclass)+\n",
    "geom_bar()+\n",
    "labs(y=\"passanger count\",\n",
    "       tittle=\" Survival rate with sibling and or spouse by class\")+\n",
    "theme_bw()"
   ]
  },
  {
   "cell_type": "markdown",
   "id": "00f214ba",
   "metadata": {},
   "source": [
    " # Design the regression model: \n",
    "\n",
    "The previous steps has enabled us to assess our data and come up with the\n",
    "following model. Outcome valuable: Survived\\\n",
    "Predictors: Sex, Passenger Class(Pclass), Age, Siblings or Spouse(Sibsp)\n",
    "and Parent/child(Parch)"
   ]
  },
  {
   "cell_type": "code",
   "execution_count": 69,
   "id": "78bc5ee4",
   "metadata": {},
   "outputs": [
    {
     "data": {
      "text/plain": [
       "\n",
       "Call:\n",
       "glm(formula = Survived ~ Sex + Pclass + Age + SibSp + Parch, \n",
       "    family = binomial, data = df1)\n",
       "\n",
       "Deviance Residuals: \n",
       "    Min       1Q   Median       3Q      Max  \n",
       "-2.7723  -0.6353  -0.3869   0.6327   2.4513  \n",
       "\n",
       "Coefficients:\n",
       "                    Estimate Std. Error z value Pr(>|z|)    \n",
       "(Intercept)         4.356474   0.455990   9.554  < 2e-16 ***\n",
       "Sexmale            -2.642267   0.219749 -12.024  < 2e-16 ***\n",
       "PclassSecond Class -1.415376   0.284712  -4.971 6.65e-07 ***\n",
       "PclassThird Class  -2.650169   0.285724  -9.275  < 2e-16 ***\n",
       "Age                -0.044836   0.008229  -5.448 5.09e-08 ***\n",
       "SibSp              -0.368280   0.126827  -2.904  0.00369 ** \n",
       "Parch              -0.038607   0.119601  -0.323  0.74685    \n",
       "---\n",
       "Signif. codes:  0 '***' 0.001 '**' 0.01 '*' 0.05 '.' 0.1 ' ' 1\n",
       "\n",
       "(Dispersion parameter for binomial family taken to be 1)\n",
       "\n",
       "    Null deviance: 964.52  on 713  degrees of freedom\n",
       "Residual deviance: 636.46  on 707  degrees of freedom\n",
       "AIC: 650.46\n",
       "\n",
       "Number of Fisher Scoring iterations: 5\n"
      ]
     },
     "metadata": {},
     "output_type": "display_data"
    }
   ],
   "source": [
    "# Model 1\n",
    "Tmod1 = glm(Survived~ Sex+Pclass+Age+SibSp+Parch,\n",
    "family = binomial, data = df1)\n",
    "summary(Tmod1)\n",
    "\n",
    "#Even though PClass is not significant, we shall keep it in our model in order to find answers to our question"
   ]
  },
  {
   "cell_type": "code",
   "execution_count": 70,
   "id": "c518a00d",
   "metadata": {},
   "outputs": [
    {
     "data": {
      "text/html": [
       "<style>\n",
       ".dl-inline {width: auto; margin:0; padding: 0}\n",
       ".dl-inline>dt, .dl-inline>dd {float: none; width: auto; display: inline-block}\n",
       ".dl-inline>dt::after {content: \":\\0020\"; padding-right: .5ex}\n",
       ".dl-inline>dt:not(:first-of-type) {padding-left: .5ex}\n",
       "</style><dl class=dl-inline><dt>(Intercept)</dt><dd>4.3564744260369</dd><dt>Sexmale</dt><dd>-2.64226650612265</dd><dt>PclassSecond Class</dt><dd>-1.41537613268045</dd><dt>PclassThird Class</dt><dd>-2.65016872175978</dd><dt>Age</dt><dd>-0.0448360872986905</dd><dt>SibSp</dt><dd>-0.368280145540486</dd><dt>Parch</dt><dd>-0.0386070482572946</dd></dl>\n"
      ],
      "text/latex": [
       "\\begin{description*}\n",
       "\\item[(Intercept)] 4.3564744260369\n",
       "\\item[Sexmale] -2.64226650612265\n",
       "\\item[PclassSecond Class] -1.41537613268045\n",
       "\\item[PclassThird Class] -2.65016872175978\n",
       "\\item[Age] -0.0448360872986905\n",
       "\\item[SibSp] -0.368280145540486\n",
       "\\item[Parch] -0.0386070482572946\n",
       "\\end{description*}\n"
      ],
      "text/markdown": [
       "(Intercept)\n",
       ":   4.3564744260369Sexmale\n",
       ":   -2.64226650612265PclassSecond Class\n",
       ":   -1.41537613268045PclassThird Class\n",
       ":   -2.65016872175978Age\n",
       ":   -0.0448360872986905SibSp\n",
       ":   -0.368280145540486Parch\n",
       ":   -0.0386070482572946\n",
       "\n"
      ],
      "text/plain": [
       "       (Intercept)            Sexmale PclassSecond Class  PclassThird Class \n",
       "        4.35647443        -2.64226651        -1.41537613        -2.65016872 \n",
       "               Age              SibSp              Parch \n",
       "       -0.04483609        -0.36828015        -0.03860705 "
      ]
     },
     "metadata": {},
     "output_type": "display_data"
    }
   ],
   "source": [
    "coefficients(Tmod1)"
   ]
  },
  {
   "cell_type": "markdown",
   "id": "0d38fcce",
   "metadata": {},
   "source": [
    "# Model Performance\n",
    "\n",
    "I use the R2 function to asses the performance of our model and the\n",
    "null model. \"pscl package\".\n",
    "\n",
    "The model has(-318.22 llh) which is bigger than the Null model(-482.26\n",
    "llhNull). This implies that my model is better than the null model."
   ]
  },
  {
   "cell_type": "code",
   "execution_count": 72,
   "id": "91d3e889",
   "metadata": {},
   "outputs": [
    {
     "data": {
      "text/html": [
       "<style>\n",
       ".dl-inline {width: auto; margin:0; padding: 0}\n",
       ".dl-inline>dt, .dl-inline>dd {float: none; width: auto; display: inline-block}\n",
       ".dl-inline>dt::after {content: \":\\0020\"; padding-right: .5ex}\n",
       ".dl-inline>dt:not(:first-of-type) {padding-left: .5ex}\n",
       "</style><dl class=dl-inline><dt>llh</dt><dd>-318.23</dd><dt>llhNull</dt><dd>-482.26</dd><dt>G2</dt><dd>328.06</dd><dt>McFadden</dt><dd>0.34</dd><dt>r2ML</dt><dd>0.37</dd><dt>r2CU</dt><dd>0.5</dd></dl>\n"
      ],
      "text/latex": [
       "\\begin{description*}\n",
       "\\item[llh] -318.23\n",
       "\\item[llhNull] -482.26\n",
       "\\item[G2] 328.06\n",
       "\\item[McFadden] 0.34\n",
       "\\item[r2ML] 0.37\n",
       "\\item[r2CU] 0.5\n",
       "\\end{description*}\n"
      ],
      "text/markdown": [
       "llh\n",
       ":   -318.23llhNull\n",
       ":   -482.26G2\n",
       ":   328.06McFadden\n",
       ":   0.34r2ML\n",
       ":   0.37r2CU\n",
       ":   0.5\n",
       "\n"
      ],
      "text/plain": [
       "     llh  llhNull       G2 McFadden     r2ML     r2CU \n",
       " -318.23  -482.26   328.06     0.34     0.37     0.50 "
      ]
     },
     "metadata": {},
     "output_type": "display_data"
    },
    {
     "data": {
      "text/html": [
       "<strong>llh:</strong> 636.459710853502"
      ],
      "text/latex": [
       "\\textbf{llh:} 636.459710853502"
      ],
      "text/markdown": [
       "**llh:** 636.459710853502"
      ],
      "text/plain": [
       "     llh \n",
       "636.4597 "
      ]
     },
     "metadata": {},
     "output_type": "display_data"
    }
   ],
   "source": [
    "  pR2(Tmod1)%>%round(2)\n",
    " # 2ll deviance \n",
    "pR2(Tmod1)[\"llh\"] * -2 # alternative model"
   ]
  },
  {
   "cell_type": "markdown",
   "id": "50eb32be",
   "metadata": {},
   "source": [
    "#### Predicting accuracy for categorization"
   ]
  },
  {
   "cell_type": "code",
   "execution_count": 73,
   "id": "8e2efa46",
   "metadata": {},
   "outputs": [],
   "source": [
    "df1= df1 %>%\n",
    "mutate(pred_Tmod1 = predict(Tmod1)) %>% \n",
    "  mutate(pred_Tmod1 = case_when(pred_Tmod1 <= 0 ~\"No\",\n",
    "                                pred_Tmod1 > 0 ~ \"Yes\"))"
   ]
  },
  {
   "cell_type": "markdown",
   "id": "b7f44eb5",
   "metadata": {},
   "source": [
    "#### Coding correct cases"
   ]
  },
  {
   "cell_type": "code",
   "execution_count": 74,
   "id": "a75830fe",
   "metadata": {},
   "outputs": [],
   "source": [
    "df1 = df1 %>%\n",
    "  mutate(correct_prediction=case_when(pred_Tmod1 == Survived  ~ \"correct\",\n",
    "                                      pred_Tmod1 != Survived ~ \"incorrect\"))\n"
   ]
  },
  {
   "cell_type": "markdown",
   "id": "1f902745",
   "metadata": {},
   "source": [
    "#### Check the model prediction performance\n",
    "The model has 81% correct prediction rate and 19%\n",
    "incorrect predictions"
   ]
  },
  {
   "cell_type": "code",
   "execution_count": 75,
   "id": "5c1562e5",
   "metadata": {},
   "outputs": [
    {
     "data": {
      "text/html": [
       "<table>\n",
       "<caption>A tibble: 2 × 3</caption>\n",
       "<thead>\n",
       "\t<tr><th scope=col>correct_prediction</th><th scope=col>count</th><th scope=col>freq</th></tr>\n",
       "\t<tr><th scope=col>&lt;chr&gt;</th><th scope=col>&lt;int&gt;</th><th scope=col>&lt;dbl&gt;</th></tr>\n",
       "</thead>\n",
       "<tbody>\n",
       "\t<tr><td>correct  </td><td>575</td><td>0.8053221</td></tr>\n",
       "\t<tr><td>incorrect</td><td>139</td><td>0.1946779</td></tr>\n",
       "</tbody>\n",
       "</table>\n"
      ],
      "text/latex": [
       "A tibble: 2 × 3\n",
       "\\begin{tabular}{lll}\n",
       " correct\\_prediction & count & freq\\\\\n",
       " <chr> & <int> & <dbl>\\\\\n",
       "\\hline\n",
       "\t correct   & 575 & 0.8053221\\\\\n",
       "\t incorrect & 139 & 0.1946779\\\\\n",
       "\\end{tabular}\n"
      ],
      "text/markdown": [
       "\n",
       "A tibble: 2 × 3\n",
       "\n",
       "| correct_prediction &lt;chr&gt; | count &lt;int&gt; | freq &lt;dbl&gt; |\n",
       "|---|---|---|\n",
       "| correct   | 575 | 0.8053221 |\n",
       "| incorrect | 139 | 0.1946779 |\n",
       "\n"
      ],
      "text/plain": [
       "  correct_prediction count freq     \n",
       "1 correct            575   0.8053221\n",
       "2 incorrect          139   0.1946779"
      ]
     },
     "metadata": {},
     "output_type": "display_data"
    }
   ],
   "source": [
    "df1 %>%\n",
    "group_by(correct_prediction) %>%\n",
    "summarise(count = n()) %>%\n",
    "mutate(freq = count / sum(count))"
   ]
  },
  {
   "cell_type": "markdown",
   "id": "661fb226",
   "metadata": {},
   "source": [
    "## Compute the Null model\n",
    "Model without predictors "
   ]
  },
  {
   "cell_type": "code",
   "execution_count": 76,
   "id": "be2dd39e",
   "metadata": {},
   "outputs": [
    {
     "data": {
      "text/plain": [
       "\n",
       "Call:\n",
       "glm(formula = Survived ~ 1, family = binomial(), data = df1)\n",
       "\n",
       "Deviance Residuals: \n",
       "   Min      1Q  Median      3Q     Max  \n",
       "-1.021  -1.021  -1.021   1.342   1.342  \n",
       "\n",
       "Coefficients:\n",
       "            Estimate Std. Error z value Pr(>|z|)    \n",
       "(Intercept)  -0.3799     0.0762  -4.985  6.2e-07 ***\n",
       "---\n",
       "Signif. codes:  0 '***' 0.001 '**' 0.01 '*' 0.05 '.' 0.1 ' ' 1\n",
       "\n",
       "(Dispersion parameter for binomial family taken to be 1)\n",
       "\n",
       "    Null deviance: 964.52  on 713  degrees of freedom\n",
       "Residual deviance: 964.52  on 713  degrees of freedom\n",
       "AIC: 966.52\n",
       "\n",
       "Number of Fisher Scoring iterations: 4\n"
      ]
     },
     "metadata": {},
     "output_type": "display_data"
    }
   ],
   "source": [
    "mod_null = glm(Survived ~ 1, family = binomial(), data = df1)\n",
    "\n",
    "summary(mod_null)"
   ]
  },
  {
   "cell_type": "markdown",
   "id": "13d38d75",
   "metadata": {},
   "source": [
    "#### performance of null model \n",
    "The model show that 59% of the people died while 41% died"
   ]
  },
  {
   "cell_type": "code",
   "execution_count": 77,
   "id": "b157fa27",
   "metadata": {},
   "outputs": [
    {
     "data": {
      "text/html": [
       "<table>\n",
       "<caption>A tibble: 2 × 3</caption>\n",
       "<thead>\n",
       "\t<tr><th scope=col>Survived</th><th scope=col>count</th><th scope=col>freq</th></tr>\n",
       "\t<tr><th scope=col>&lt;fct&gt;</th><th scope=col>&lt;int&gt;</th><th scope=col>&lt;dbl&gt;</th></tr>\n",
       "</thead>\n",
       "<tbody>\n",
       "\t<tr><td>No </td><td>424</td><td>0.5938375</td></tr>\n",
       "\t<tr><td>Yes</td><td>290</td><td>0.4061625</td></tr>\n",
       "</tbody>\n",
       "</table>\n"
      ],
      "text/latex": [
       "A tibble: 2 × 3\n",
       "\\begin{tabular}{lll}\n",
       " Survived & count & freq\\\\\n",
       " <fct> & <int> & <dbl>\\\\\n",
       "\\hline\n",
       "\t No  & 424 & 0.5938375\\\\\n",
       "\t Yes & 290 & 0.4061625\\\\\n",
       "\\end{tabular}\n"
      ],
      "text/markdown": [
       "\n",
       "A tibble: 2 × 3\n",
       "\n",
       "| Survived &lt;fct&gt; | count &lt;int&gt; | freq &lt;dbl&gt; |\n",
       "|---|---|---|\n",
       "| No  | 424 | 0.5938375 |\n",
       "| Yes | 290 | 0.4061625 |\n",
       "\n"
      ],
      "text/plain": [
       "  Survived count freq     \n",
       "1 No       424   0.5938375\n",
       "2 Yes      290   0.4061625"
      ]
     },
     "metadata": {},
     "output_type": "display_data"
    }
   ],
   "source": [
    "df1 %>%\n",
    "group_by(Survived) %>%\n",
    "summarise(count = n()) %>%\n",
    "mutate(freq = count / sum(count))"
   ]
  },
  {
   "cell_type": "markdown",
   "id": "5534e5c3",
   "metadata": {},
   "source": [
    "####  compare the predictions of the null model with the alternative model"
   ]
  },
  {
   "cell_type": "code",
   "execution_count": 80,
   "id": "7bc01001",
   "metadata": {},
   "outputs": [
    {
     "data": {
      "text/html": [
       "<table>\n",
       "<caption>A tibble: 2 × 3</caption>\n",
       "<thead>\n",
       "\t<tr><th scope=col>pred_Tmod1</th><th scope=col>No</th><th scope=col>Yes</th></tr>\n",
       "\t<tr><th scope=col>&lt;chr&gt;</th><th scope=col>&lt;int&gt;</th><th scope=col>&lt;int&gt;</th></tr>\n",
       "</thead>\n",
       "<tbody>\n",
       "\t<tr><td>No </td><td>363</td><td> 78</td></tr>\n",
       "\t<tr><td>Yes</td><td> 61</td><td>212</td></tr>\n",
       "</tbody>\n",
       "</table>\n"
      ],
      "text/latex": [
       "A tibble: 2 × 3\n",
       "\\begin{tabular}{lll}\n",
       " pred\\_Tmod1 & No & Yes\\\\\n",
       " <chr> & <int> & <int>\\\\\n",
       "\\hline\n",
       "\t No  & 363 &  78\\\\\n",
       "\t Yes &  61 & 212\\\\\n",
       "\\end{tabular}\n"
      ],
      "text/markdown": [
       "\n",
       "A tibble: 2 × 3\n",
       "\n",
       "| pred_Tmod1 &lt;chr&gt; | No &lt;int&gt; | Yes &lt;int&gt; |\n",
       "|---|---|---|\n",
       "| No  | 363 |  78 |\n",
       "| Yes |  61 | 212 |\n",
       "\n"
      ],
      "text/plain": [
       "  pred_Tmod1 No  Yes\n",
       "1 No         363  78\n",
       "2 Yes         61 212"
      ]
     },
     "metadata": {},
     "output_type": "display_data"
    }
   ],
   "source": [
    "df1%>%\n",
    "group_by(Survived, pred_Tmod1) %>%\n",
    "summarize(n = n()) %>%\n",
    "spread(Survived, n)"
   ]
  },
  {
   "cell_type": "markdown",
   "id": "9f039fd8",
   "metadata": {},
   "source": [
    "#### check for the prediction of Survival rate by response category(Survived= Yes/No)\n",
    "\n",
    "- 73% of survivors were correctly predicted. However, 27% were wrongly predicted. "
   ]
  },
  {
   "cell_type": "code",
   "execution_count": 82,
   "id": "8fa85fa1",
   "metadata": {},
   "outputs": [
    {
     "data": {
      "text/html": [
       "<table>\n",
       "<caption>A tibble: 2 × 3</caption>\n",
       "<thead>\n",
       "\t<tr><th scope=col>correct_prediction</th><th scope=col>count</th><th scope=col>freq</th></tr>\n",
       "\t<tr><th scope=col>&lt;chr&gt;</th><th scope=col>&lt;int&gt;</th><th scope=col>&lt;dbl&gt;</th></tr>\n",
       "</thead>\n",
       "<tbody>\n",
       "\t<tr><td>correct  </td><td>212</td><td>0.7310345</td></tr>\n",
       "\t<tr><td>incorrect</td><td> 78</td><td>0.2689655</td></tr>\n",
       "</tbody>\n",
       "</table>\n"
      ],
      "text/latex": [
       "A tibble: 2 × 3\n",
       "\\begin{tabular}{lll}\n",
       " correct\\_prediction & count & freq\\\\\n",
       " <chr> & <int> & <dbl>\\\\\n",
       "\\hline\n",
       "\t correct   & 212 & 0.7310345\\\\\n",
       "\t incorrect &  78 & 0.2689655\\\\\n",
       "\\end{tabular}\n"
      ],
      "text/markdown": [
       "\n",
       "A tibble: 2 × 3\n",
       "\n",
       "| correct_prediction &lt;chr&gt; | count &lt;int&gt; | freq &lt;dbl&gt; |\n",
       "|---|---|---|\n",
       "| correct   | 212 | 0.7310345 |\n",
       "| incorrect |  78 | 0.2689655 |\n",
       "\n"
      ],
      "text/plain": [
       "  correct_prediction count freq     \n",
       "1 correct            212   0.7310345\n",
       "2 incorrect           78   0.2689655"
      ]
     },
     "metadata": {},
     "output_type": "display_data"
    }
   ],
   "source": [
    "df1%>%\n",
    "filter(Survived == \"Yes\") %>%\n",
    "group_by(correct_prediction) %>%\n",
    "  summarise(count = n()) %>%\n",
    "  mutate(freq = count / sum(count)) %>%  \n",
    "mutate(freq = count / sum(count))"
   ]
  },
  {
   "cell_type": "code",
   "execution_count": 83,
   "id": "d123a706",
   "metadata": {},
   "outputs": [
    {
     "data": {
      "text/html": [
       "<table>\n",
       "<caption>A tibble: 2 × 3</caption>\n",
       "<thead>\n",
       "\t<tr><th scope=col>correct_prediction</th><th scope=col>count</th><th scope=col>freq</th></tr>\n",
       "\t<tr><th scope=col>&lt;chr&gt;</th><th scope=col>&lt;int&gt;</th><th scope=col>&lt;dbl&gt;</th></tr>\n",
       "</thead>\n",
       "<tbody>\n",
       "\t<tr><td>correct  </td><td>363</td><td>0.8561321</td></tr>\n",
       "\t<tr><td>incorrect</td><td> 61</td><td>0.1438679</td></tr>\n",
       "</tbody>\n",
       "</table>\n"
      ],
      "text/latex": [
       "A tibble: 2 × 3\n",
       "\\begin{tabular}{lll}\n",
       " correct\\_prediction & count & freq\\\\\n",
       " <chr> & <int> & <dbl>\\\\\n",
       "\\hline\n",
       "\t correct   & 363 & 0.8561321\\\\\n",
       "\t incorrect &  61 & 0.1438679\\\\\n",
       "\\end{tabular}\n"
      ],
      "text/markdown": [
       "\n",
       "A tibble: 2 × 3\n",
       "\n",
       "| correct_prediction &lt;chr&gt; | count &lt;int&gt; | freq &lt;dbl&gt; |\n",
       "|---|---|---|\n",
       "| correct   | 363 | 0.8561321 |\n",
       "| incorrect |  61 | 0.1438679 |\n",
       "\n"
      ],
      "text/plain": [
       "  correct_prediction count freq     \n",
       "1 correct            363   0.8561321\n",
       "2 incorrect           61   0.1438679"
      ]
     },
     "metadata": {},
     "output_type": "display_data"
    }
   ],
   "source": [
    "df1 %>%\n",
    "filter(Survived == \"No\") %>%\n",
    "group_by(correct_prediction) %>%\n",
    "summarise(count = n()) %>% mutate(freq = count / sum(count)) \n"
   ]
  },
  {
   "cell_type": "markdown",
   "id": "d47b70e7",
   "metadata": {},
   "source": [
    "# Model fit \n",
    "\n",
    "The AIC for the model is 650.46 which is lower than 966.52 for the null model as shown in the output below"
   ]
  },
  {
   "cell_type": "code",
   "execution_count": 84,
   "id": "56e1556d",
   "metadata": {},
   "outputs": [
    {
     "data": {
      "text/html": [
       "<table>\n",
       "<caption>A data.frame: 2 × 2</caption>\n",
       "<thead>\n",
       "\t<tr><th></th><th scope=col>df</th><th scope=col>AIC</th></tr>\n",
       "\t<tr><th></th><th scope=col>&lt;dbl&gt;</th><th scope=col>&lt;dbl&gt;</th></tr>\n",
       "</thead>\n",
       "<tbody>\n",
       "\t<tr><th scope=row>mod_null</th><td>1</td><td>966.5160</td></tr>\n",
       "\t<tr><th scope=row>Tmod1</th><td>7</td><td>650.4597</td></tr>\n",
       "</tbody>\n",
       "</table>\n"
      ],
      "text/latex": [
       "A data.frame: 2 × 2\n",
       "\\begin{tabular}{r|ll}\n",
       "  & df & AIC\\\\\n",
       "  & <dbl> & <dbl>\\\\\n",
       "\\hline\n",
       "\tmod\\_null & 1 & 966.5160\\\\\n",
       "\tTmod1 & 7 & 650.4597\\\\\n",
       "\\end{tabular}\n"
      ],
      "text/markdown": [
       "\n",
       "A data.frame: 2 × 2\n",
       "\n",
       "| <!--/--> | df &lt;dbl&gt; | AIC &lt;dbl&gt; |\n",
       "|---|---|---|\n",
       "| mod_null | 1 | 966.5160 |\n",
       "| Tmod1 | 7 | 650.4597 |\n",
       "\n"
      ],
      "text/plain": [
       "         df AIC     \n",
       "mod_null 1  966.5160\n",
       "Tmod1    7  650.4597"
      ]
     },
     "metadata": {},
     "output_type": "display_data"
    }
   ],
   "source": [
    "AIC(mod_null, Tmod1)"
   ]
  },
  {
   "cell_type": "markdown",
   "id": "451814d8",
   "metadata": {},
   "source": [
    "\n",
    "# Dominance Analysis \n",
    "\n",
    "We conclude from our findings that Sex(0.21) is the main predictor of Survival outcome, followed by Passenger class(0.11), Age(0.02), Sibling or spouse(0.01), and parent or child(0.00)"
   ]
  },
  {
   "cell_type": "code",
   "execution_count": 91,
   "id": "48871fa0",
   "metadata": {},
   "outputs": [
    {
     "data": {
      "text/html": [
       "<strong>$r2.m</strong> = <table>\n",
       "<caption>A data.frame: 5 × 6</caption>\n",
       "<thead>\n",
       "\t<tr><th></th><th scope=col>level</th><th scope=col>Sex</th><th scope=col>Pclass</th><th scope=col>Age</th><th scope=col>SibSp</th><th scope=col>Parch</th></tr>\n",
       "\t<tr><th></th><th scope=col>&lt;dbl&gt;</th><th scope=col>&lt;dbl&gt;</th><th scope=col>&lt;dbl&gt;</th><th scope=col>&lt;dbl&gt;</th><th scope=col>&lt;dbl&gt;</th><th scope=col>&lt;dbl&gt;</th></tr>\n",
       "</thead>\n",
       "<tbody>\n",
       "\t<tr><th scope=row>1</th><td>0</td><td>0.2216819</td><td>0.09818988</td><td>0.004445297</td><td>0.0002244157</td><td>0.0063586405</td></tr>\n",
       "\t<tr><th scope=row>2</th><td>1</td><td>0.2167722</td><td>0.10446923</td><td>0.013341816</td><td>0.0024738300</td><td>0.0059649301</td></tr>\n",
       "\t<tr><th scope=row>3</th><td>2</td><td>0.2082568</td><td>0.10673655</td><td>0.020141159</td><td>0.0040501644</td><td>0.0038784234</td></tr>\n",
       "\t<tr><th scope=row>4</th><td>3</td><td>0.1986347</td><td>0.10832552</td><td>0.027308571</td><td>0.0068167209</td><td>0.0022657765</td></tr>\n",
       "\t<tr><th scope=row>5</th><td>4</td><td>0.1872201</td><td>0.10938487</td><td>0.034124369</td><td>0.0094518774</td><td>0.0001087219</td></tr>\n",
       "</tbody>\n",
       "</table>\n"
      ],
      "text/latex": [
       "\\textbf{\\$r2.m} = A data.frame: 5 × 6\n",
       "\\begin{tabular}{r|llllll}\n",
       "  & level & Sex & Pclass & Age & SibSp & Parch\\\\\n",
       "  & <dbl> & <dbl> & <dbl> & <dbl> & <dbl> & <dbl>\\\\\n",
       "\\hline\n",
       "\t1 & 0 & 0.2216819 & 0.09818988 & 0.004445297 & 0.0002244157 & 0.0063586405\\\\\n",
       "\t2 & 1 & 0.2167722 & 0.10446923 & 0.013341816 & 0.0024738300 & 0.0059649301\\\\\n",
       "\t3 & 2 & 0.2082568 & 0.10673655 & 0.020141159 & 0.0040501644 & 0.0038784234\\\\\n",
       "\t4 & 3 & 0.1986347 & 0.10832552 & 0.027308571 & 0.0068167209 & 0.0022657765\\\\\n",
       "\t5 & 4 & 0.1872201 & 0.10938487 & 0.034124369 & 0.0094518774 & 0.0001087219\\\\\n",
       "\\end{tabular}\n"
      ],
      "text/markdown": [
       "**$r2.m** = \n",
       "A data.frame: 5 × 6\n",
       "\n",
       "| <!--/--> | level &lt;dbl&gt; | Sex &lt;dbl&gt; | Pclass &lt;dbl&gt; | Age &lt;dbl&gt; | SibSp &lt;dbl&gt; | Parch &lt;dbl&gt; |\n",
       "|---|---|---|---|---|---|---|\n",
       "| 1 | 0 | 0.2216819 | 0.09818988 | 0.004445297 | 0.0002244157 | 0.0063586405 |\n",
       "| 2 | 1 | 0.2167722 | 0.10446923 | 0.013341816 | 0.0024738300 | 0.0059649301 |\n",
       "| 3 | 2 | 0.2082568 | 0.10673655 | 0.020141159 | 0.0040501644 | 0.0038784234 |\n",
       "| 4 | 3 | 0.1986347 | 0.10832552 | 0.027308571 | 0.0068167209 | 0.0022657765 |\n",
       "| 5 | 4 | 0.1872201 | 0.10938487 | 0.034124369 | 0.0094518774 | 0.0001087219 |\n",
       "\n"
      ],
      "text/plain": [
       "\n",
       "Contribution by level\n",
       "* Fit index:  r2.m \n",
       " level   Sex Pclass   Age SibSp Parch\n",
       "     0 0.222  0.098 0.004 0.000 0.006\n",
       "     1 0.217  0.104 0.013 0.002 0.006\n",
       "     2 0.208  0.107 0.020 0.004 0.004\n",
       "     3 0.199  0.108 0.027 0.007 0.002\n",
       "     4 0.187  0.109 0.034 0.009 0.000"
      ]
     },
     "metadata": {},
     "output_type": "display_data"
    }
   ],
   "source": [
    "Dominance_TMod1<-dominanceAnalysis(Tmod1)\n",
    "\n",
    "contributionByLevel(Dominance_TMod1, fit.functions=\"r2.m\")"
   ]
  },
  {
   "cell_type": "code",
   "execution_count": 86,
   "id": "338a35ab",
   "metadata": {},
   "outputs": [
    {
     "data": {
      "text/html": [
       "<strong>$r2.m</strong> = <style>\n",
       ".dl-inline {width: auto; margin:0; padding: 0}\n",
       ".dl-inline>dt, .dl-inline>dd {float: none; width: auto; display: inline-block}\n",
       ".dl-inline>dt::after {content: \":\\0020\"; padding-right: .5ex}\n",
       ".dl-inline>dt:not(:first-of-type) {padding-left: .5ex}\n",
       "</style><dl class=dl-inline><dt>Sex</dt><dd>0.206513120531082</dd><dt>Pclass</dt><dd>0.105421207912295</dd><dt>Age</dt><dd>0.0198722424968875</dd><dt>SibSp</dt><dd>0.00460340167683519</dd><dt>Parch</dt><dd>0.00371529845724953</dd></dl>\n"
      ],
      "text/latex": [
       "\\textbf{\\$r2.m} = \\begin{description*}\n",
       "\\item[Sex] 0.206513120531082\n",
       "\\item[Pclass] 0.105421207912295\n",
       "\\item[Age] 0.0198722424968875\n",
       "\\item[SibSp] 0.00460340167683519\n",
       "\\item[Parch] 0.00371529845724953\n",
       "\\end{description*}\n"
      ],
      "text/markdown": [
       "**$r2.m** = Sex\n",
       ":   0.206513120531082Pclass\n",
       ":   0.105421207912295Age\n",
       ":   0.0198722424968875SibSp\n",
       ":   0.00460340167683519Parch\n",
       ":   0.00371529845724953\n",
       "\n"
      ],
      "text/plain": [
       "\n",
       "Average Contribution by predictor\n",
       "       Sex Pclass  Age SibSp Parch\n",
       "r2.m 0.207  0.105 0.02 0.005 0.004"
      ]
     },
     "metadata": {},
     "output_type": "display_data"
    }
   ],
   "source": [
    "averageContribution(Dominance_TMod1,fit.functions = \"r2.m\")"
   ]
  },
  {
   "cell_type": "markdown",
   "id": "112bd0ce",
   "metadata": {},
   "source": [
    " # Suvival probality "
   ]
  },
  {
   "cell_type": "markdown",
   "id": "805fba7d",
   "metadata": {},
   "source": [
    "${Survived}={\\beta}_{Intercept}+{\\beta}_{Sex}+{\\beta}_{Age}+{\\beta}_{Pclass}+{\\beta}_{Parch}+{\\beta}_{SibSp}$\n",
    "\n",
    "${Odds}=exp({4.36}+(-2.64)*0+(-1.42)*1+(-2.65)*1+(-0.04)*4+(-0.37)*0+(-0.04)*2) = 4.53$\n",
    "${Probality}= 4.53/(1+4.53)*100= 82%$\n",
    "\n",
    "Odds Kate with leonardo\n",
    "\n",
    "$odds = Exp(4.36+(-2.64)*0+(-1.42)*0+(-2.65)*1+(-0.04)*4+(-0.37)*0+(-0.04)*1)= 4.35$\n",
    "$Probality= 4.35/(1+4.35)*100=81%)$\n",
    " "
   ]
  },
  {
   "cell_type": "code",
   "execution_count": 90,
   "id": "ba53ca20",
   "metadata": {},
   "outputs": [],
   "source": []
  },
  {
   "cell_type": "code",
   "execution_count": null,
   "id": "edf406fa",
   "metadata": {},
   "outputs": [],
   "source": []
  }
 ],
 "metadata": {
  "kernelspec": {
   "display_name": "R",
   "language": "R",
   "name": "ir"
  },
  "language_info": {
   "codemirror_mode": "r",
   "file_extension": ".r",
   "mimetype": "text/x-r-source",
   "name": "R",
   "pygments_lexer": "r",
   "version": "3.6.1"
  }
 },
 "nbformat": 4,
 "nbformat_minor": 5
}
